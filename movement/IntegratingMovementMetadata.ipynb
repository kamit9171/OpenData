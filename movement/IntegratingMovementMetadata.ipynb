{
  "nbformat": 4,
  "nbformat_minor": 0,
  "metadata": {
    "colab": {
      "name": "IntegratingMovementMetadata.ipynb",
      "version": "0.3.2",
      "provenance": [],
      "collapsed_sections": [],
      "include_colab_link": true
    },
    "kernelspec": {
      "name": "python3",
      "display_name": "Python 3"
    }
  },
  "cells": [
    {
      "cell_type": "markdown",
      "metadata": {
        "id": "view-in-github",
        "colab_type": "text"
      },
      "source": [
        "<a href=\"https://colab.research.google.com/github/openworm/OpenData/blob/master/movement/IntegratingMovementMetadata.ipynb\" target=\"_parent\"><img src=\"https://colab.research.google.com/assets/colab-badge.svg\" alt=\"Open In Colab\"/></a>"
      ]
    },
    {
      "cell_type": "markdown",
      "metadata": {
        "id": "Je92Oi5BW68w",
        "colab_type": "text"
      },
      "source": [
        "**You will need a github account with your own fork of [PyOpenWorm](https://github.com/openworm/PyOpenWorm) and [OpenWormData](https://github.com/openworm/OpenWormData). Simply press fork in top right hand corner whilst logged into your own github account. Manually add the [movementmetadata.py](https://raw.githubusercontent.com/openworm/OpenData/master/movementmetadata.py) to your forked version of PyOpenWorm. Click \"Create New File\" file in your forked version of PyOpenWorm. Set the name as \"movementmetadata.py\" and copy and paste the script. Click \"Commit\" at the bottom of the page. \"movementmetadata.py\" stores the classes for categorising and incorporating movement metadata into PyOpenWorm. If you make a mistake and need to delete a repository, go to the home page of your forked version, click Settings and scroll down to Danger Zone. To start again in a google colab environment, click the Runtime tab and the Reset all Runtimes. This will remove the state of all runtimes including local variables and files.** "
      ]
    },
    {
      "cell_type": "markdown",
      "metadata": {
        "id": "3alwZsxaYdeQ",
        "colab_type": "text"
      },
      "source": [
        "**Create ssh keypairs. Leave each of the 3 boxes that will appear empty by pressing Enter.**"
      ]
    },
    {
      "cell_type": "code",
      "metadata": {
        "id": "hvDWSPDDW5AJ",
        "colab_type": "code",
        "colab": {}
      },
      "source": [
        "!ssh-keygen"
      ],
      "execution_count": 0,
      "outputs": []
    },
    {
      "cell_type": "markdown",
      "metadata": {
        "id": "xcrnuZ6WY4Vu",
        "colab_type": "text"
      },
      "source": [
        "**View the public ssh key that you have generated. You can now copy and paste the whole key as a deploy key for your forked version of the OpenWormData repository. Navigate to the homepage of your forked version of OpenWormData through the github website. Click \"Settings\" and then click \"Deploy Keys\". It is one of the tabs on the left hand side of the page. Click \"Add New Deploy Ke\"y and paste the entire key into the empty key box. Make up a title, I designated mine \"googlecolab\". Tick \"Allow Write Access\" and press \"Add Key\".** "
      ]
    },
    {
      "cell_type": "code",
      "metadata": {
        "id": "0ejsu-HvY3Wb",
        "colab_type": "code",
        "colab": {}
      },
      "source": [
        "%pycat /root/.ssh/id_rsa.pub"
      ],
      "execution_count": 0,
      "outputs": []
    },
    {
      "cell_type": "markdown",
      "metadata": {
        "id": "TC2ySEgEabvP",
        "colab_type": "text"
      },
      "source": [
        "**Get the github ssh host key**"
      ]
    },
    {
      "cell_type": "code",
      "metadata": {
        "id": "yOkb6ofUaaWd",
        "colab_type": "code",
        "colab": {}
      },
      "source": [
        "ssh-keyscan github.com >> /root/.ssh/known_hosts"
      ],
      "execution_count": 0,
      "outputs": []
    },
    {
      "cell_type": "markdown",
      "metadata": {
        "id": "MVvFxb8LdDVw",
        "colab_type": "text"
      },
      "source": [
        "**Clone the PyOpenWorm repository into your Google Colab Working Directory** "
      ]
    },
    {
      "cell_type": "code",
      "metadata": {
        "id": "bImMtYfr5SDk",
        "colab_type": "code",
        "colab": {}
      },
      "source": [
        "!git clone git@github.com:EST09/PyOpenWorm.git"
      ],
      "execution_count": 0,
      "outputs": []
    },
    {
      "cell_type": "markdown",
      "metadata": {
        "id": "j-EgDEZ4dVE_",
        "colab_type": "text"
      },
      "source": [
        "**Change working directory to PyOpenWorm (the folder you have just cloned from github in the last step)**"
      ]
    },
    {
      "cell_type": "code",
      "metadata": {
        "id": "4tUAEKZi6IR1",
        "colab_type": "code",
        "colab": {}
      },
      "source": [
        "%cd PyOpenWorm"
      ],
      "execution_count": 0,
      "outputs": []
    },
    {
      "cell_type": "markdown",
      "metadata": {
        "id": "aLUHlN58dqne",
        "colab_type": "text"
      },
      "source": [
        "**Install PyOpenWorm as has setup.py in its root folder**"
      ]
    },
    {
      "cell_type": "code",
      "metadata": {
        "id": "N1CWaPZN6Lci",
        "colab_type": "code",
        "colab": {}
      },
      "source": [
        "!python setup.py install"
      ],
      "execution_count": 0,
      "outputs": []
    },
    {
      "cell_type": "markdown",
      "metadata": {
        "id": "v0woFT3te_wB",
        "colab_type": "text"
      },
      "source": [
        "**pow clone: This will clone a repository into .pow in your current working directory. After a successful clone, a binary database usable as a PyOpenWorm store will have been created from the serialized graphs in the repository.**"
      ]
    },
    {
      "cell_type": "code",
      "metadata": {
        "id": "vsN245tx6PuB",
        "colab_type": "code",
        "colab": {}
      },
      "source": [
        "!pow clone git@github.com:EST09/OpenWormData.git"
      ],
      "execution_count": 0,
      "outputs": []
    },
    {
      "cell_type": "markdown",
      "metadata": {
        "id": "7QI2-Cfye-Bg",
        "colab_type": "text"
      },
      "source": [
        "**Running the next cell will run tests to check that PyOpenWorm is working as expected**"
      ]
    },
    {
      "cell_type": "code",
      "metadata": {
        "id": "ZTmCLtq16bwD",
        "colab_type": "code",
        "colab": {}
      },
      "source": [
        "#!python setup.py test"
      ],
      "execution_count": 0,
      "outputs": []
    },
    {
      "cell_type": "markdown",
      "metadata": {
        "id": "SB4rivVkhTxx",
        "colab_type": "text"
      },
      "source": [
        "**Change directory into .pow which we cloned previously**"
      ]
    },
    {
      "cell_type": "code",
      "metadata": {
        "id": "m5cFXmdc67ur",
        "colab_type": "code",
        "colab": {}
      },
      "source": [
        "%cd .pow"
      ],
      "execution_count": 0,
      "outputs": []
    },
    {
      "cell_type": "markdown",
      "metadata": {
        "id": "UIGSuI9Bhcac",
        "colab_type": "text"
      },
      "source": [
        "**To add an sqlite source we need to modify the pow.conf file. The pow.conf file stores the configuration and settings for the data PyOpenWorm accesses (?). The rdf source is changed to sqlite (why specifically?)**"
      ]
    },
    {
      "cell_type": "code",
      "metadata": {
        "id": "6TRPbeg26_ZG",
        "colab_type": "code",
        "colab": {}
      },
      "source": [
        "%%writefile pow.conf \n",
        "{\n",
        "    \"data_context_id\": \"http://openworm.org/data\",\n",
        "    \"imports_context_id\": \"http://openworm.org/data/imports\",\n",
        "    \"rdf.source\": \"sqlite\",\n",
        "    \"rdf.store_conf\": \"worm.db\",\n",
        "    \"rdf.upload_block_statement_count\": 50\n",
        "}"
      ],
      "execution_count": 0,
      "outputs": []
    },
    {
      "cell_type": "code",
      "metadata": {
        "id": "JdJOYR-o7G7A",
        "colab_type": "code",
        "colab": {}
      },
      "source": [
        "%cd ../"
      ],
      "execution_count": 0,
      "outputs": []
    },
    {
      "cell_type": "markdown",
      "metadata": {
        "id": "EQ89-0Cohafs",
        "colab_type": "text"
      },
      "source": [
        "**Clone the rdflib-sqlalchemy-1 repository into the PyOpenWorm workng directory**\n",
        "\n"
      ]
    },
    {
      "cell_type": "code",
      "metadata": {
        "id": "JqZeJOOc70J-",
        "colab_type": "code",
        "colab": {}
      },
      "source": [
        "!git clone git@github.com:mwatts15/rdflib-sqlalchemy-1.git"
      ],
      "execution_count": 0,
      "outputs": []
    },
    {
      "cell_type": "code",
      "metadata": {
        "id": "KHPY0r4aRRrn",
        "colab_type": "code",
        "colab": {}
      },
      "source": [
        "%cd rdflib-sqlalchemy-1"
      ],
      "execution_count": 0,
      "outputs": []
    },
    {
      "cell_type": "markdown",
      "metadata": {
        "id": "JnKRekIU1hGk",
        "colab_type": "text"
      },
      "source": [
        "**Install rdflib-sqlalchemy-1**"
      ]
    },
    {
      "cell_type": "code",
      "metadata": {
        "id": "L2OHvrKlRZiB",
        "colab_type": "code",
        "colab": {}
      },
      "source": [
        "!python setup.py install"
      ],
      "execution_count": 0,
      "outputs": []
    },
    {
      "cell_type": "code",
      "metadata": {
        "id": "WJlz1-mORmix",
        "colab_type": "code",
        "colab": {}
      },
      "source": [
        "%cd ../"
      ],
      "execution_count": 0,
      "outputs": []
    },
    {
      "cell_type": "markdown",
      "metadata": {
        "id": "JWUdXUiSa9wi",
        "colab_type": "text"
      },
      "source": [
        "**Recreate the database from serialized graphs, including uncommited changes**"
      ]
    },
    {
      "cell_type": "code",
      "metadata": {
        "id": "--rQsIf-bPEc",
        "colab_type": "code",
        "colab": {}
      },
      "source": [
        "!pow regendb"
      ],
      "execution_count": 0,
      "outputs": []
    },
    {
      "cell_type": "markdown",
      "metadata": {
        "id": "qegfXnkg3ZER",
        "colab_type": "text"
      },
      "source": [
        "**POWmovement_incorporation.py is the script for reading movement metadata and integrating it into PyOpenWorm in the format defined in movementmetadata. wget adds POWmovement_incorporation.py to PyOpenWorm so that it is available as a module for our PyOpenWorm package** "
      ]
    },
    {
      "cell_type": "code",
      "metadata": {
        "id": "oexb-qvyZUyC",
        "colab_type": "code",
        "colab": {}
      },
      "source": [
        "#where POWmovement_incorporation is the script for uploading the data\n",
        "!wget -N https://raw.githubusercontent.com/openworm/OpenData/master/POWmovement_incorporation.py"
      ],
      "execution_count": 0,
      "outputs": []
    },
    {
      "cell_type": "code",
      "metadata": {
        "id": "tsPUQs0LaSK9",
        "colab_type": "code",
        "colab": {}
      },
      "source": [
        "!pip install sickle"
      ],
      "execution_count": 0,
      "outputs": []
    },
    {
      "cell_type": "markdown",
      "metadata": {
        "id": "B8wcoIws4cMy",
        "colab_type": "text"
      },
      "source": [
        "**pow save: integrates the module with other modules within within PyOpenWorm allowing data in a given context to be saved in .pow** \n",
        "\n",
        "**\"(Mark Watts 18:49:\n",
        "In the example I gave, namepace is a _POWSaveNamespace as defined in PyOpenWorm.command.py\n",
        "the \"pow save\" command provides it to your method. You call \"pow save\" and that calls your method\")**"
      ]
    },
    {
      "cell_type": "code",
      "metadata": {
        "id": "GiJUUmgaWvmo",
        "colab_type": "code",
        "colab": {}
      },
      "source": [
        "!pow save POWmovement_incorporation"
      ],
      "execution_count": 0,
      "outputs": []
    },
    {
      "cell_type": "markdown",
      "metadata": {
        "id": "aUzUEJT4dYio",
        "colab_type": "text"
      },
      "source": [
        "**Commit these files to your forked version of OpenWormData**"
      ]
    },
    {
      "cell_type": "code",
      "metadata": {
        "id": "1y9lp36RSRHn",
        "colab_type": "code",
        "colab": {}
      },
      "source": [
        "!pow commit -m \"commit movementmetadata records\""
      ],
      "execution_count": 0,
      "outputs": []
    },
    {
      "cell_type": "markdown",
      "metadata": {
        "id": "jNVO0rZcdiAw",
        "colab_type": "text"
      },
      "source": [
        "**Push these files to your forked version of OpenWormData**"
      ]
    },
    {
      "cell_type": "code",
      "metadata": {
        "id": "E0ggovA-DceW",
        "colab_type": "code",
        "colab": {}
      },
      "source": [
        "!pow git push"
      ],
      "execution_count": 0,
      "outputs": []
    },
    {
      "cell_type": "code",
      "metadata": {
        "id": "nMYah_PveKWF",
        "colab_type": "code",
        "colab": {}
      },
      "source": [
        "################################################"
      ],
      "execution_count": 0,
      "outputs": []
    },
    {
      "cell_type": "code",
      "metadata": {
        "id": "uj2QwRSHeR76",
        "colab_type": "code",
        "colab": {}
      },
      "source": [
        "I now need to be able to access the movement metadata"
      ],
      "execution_count": 0,
      "outputs": []
    },
    {
      "cell_type": "code",
      "metadata": {
        "id": "ZqhgYXFssWls",
        "colab_type": "code",
        "colab": {}
      },
      "source": [
        "%cd examples"
      ],
      "execution_count": 0,
      "outputs": []
    },
    {
      "cell_type": "code",
      "metadata": {
        "id": "qfcYH8CjsAl8",
        "colab_type": "code",
        "colab": {}
      },
      "source": [
        "%%writefile default.conf\n",
        "{\n",
        "    \"rdf.source\" : \"sqlite\",\n",
        "    \"rdf.store_conf\" : \"../.pow/worm.db\",\n",
        "    \"rdf.upload_block_statement_count\" : 50\n",
        "}"
      ],
      "execution_count": 0,
      "outputs": []
    },
    {
      "cell_type": "code",
      "metadata": {
        "id": "F3fA1zM4slR0",
        "colab_type": "code",
        "colab": {}
      },
      "source": [
        "%cd ../"
      ],
      "execution_count": 0,
      "outputs": []
    },
    {
      "cell_type": "code",
      "metadata": {
        "id": "XEI1g18fsvel",
        "colab_type": "code",
        "colab": {}
      },
      "source": [
        "%cd tests"
      ],
      "execution_count": 0,
      "outputs": []
    },
    {
      "cell_type": "code",
      "metadata": {
        "id": "Hx_OjOMcsx5a",
        "colab_type": "code",
        "colab": {}
      },
      "source": [
        "%%writefile data_integrity_test.conf\n",
        "{\n",
        "    \"connectomecsv\" : \"OpenWormData/aux_data/connectome.csv\",\n",
        "    \"neuronscsv\" : \"OpenWormData/aux_data/neurons.csv\",\n",
        "    \"rdf.source\" : \"sqlite\",\n",
        "    \"rdf.store_conf\" : \".pow/worm.db\",\n",
        "    \"rdf.upload_block_statement_count\" : 50\n",
        "}"
      ],
      "execution_count": 0,
      "outputs": []
    },
    {
      "cell_type": "code",
      "metadata": {
        "id": "l3kXooJgs9Eb",
        "colab_type": "code",
        "colab": {}
      },
      "source": [
        "%cd ../"
      ],
      "execution_count": 0,
      "outputs": []
    },
    {
      "cell_type": "code",
      "metadata": {
        "id": "jDgStRs1o1CW",
        "colab_type": "code",
        "colab": {}
      },
      "source": [
        "%%writefile pow-test.py\n",
        "import PyOpenWorm as P\n",
        "conn = P.connect(\".pow/pow.conf\")\n",
        "from PyOpenWorm.context import Context\n",
        "ctx = Context(ident='http://openworm.org/entities/bio#worm0-data', conf=conn.conf)\n",
        "\n",
        "# Grabs the representation of the neuronal network\n",
        "from PyOpenWorm.worm import Worm\n",
        "net = ctx.stored(Worm)().neuron_network()\n",
        "\n",
        "# Grab a specific neuron\n",
        "from PyOpenWorm.neuron import Neuron\n",
        "aval = ctx.stored(Neuron)(name='AVAL')\n",
        "\n",
        "print(aval.type.one())\n",
        "#'interneuron'\n",
        "\n",
        "#show how many connections go out of AVAL\n",
        "print(aval.connection.count('pre'))\n",
        "\n",
        "print(aval.name())\n",
        "\n",
        "\n",
        "#list all known receptors\n",
        "print(sorted(aval.receptors()))\n",
        "#['GGR-3', 'GLR-1', ... 'NPR-4', 'UNC-8']\n",
        "\n",
        "#show how many chemical synapses go in and out of AVAL\n",
        "print(aval.connection.count('either', syntype='send'))\n",
        "#105\n",
        "\n",
        "muscles = ctx.stored(Worm)().muscles()\n",
        "print(len(muscles))"
      ],
      "execution_count": 0,
      "outputs": []
    },
    {
      "cell_type": "code",
      "metadata": {
        "id": "8nvBAebspezO",
        "colab_type": "code",
        "outputId": "0986b7a0-b356-450d-be72-9adaeb6541a5",
        "colab": {
          "base_uri": "https://localhost:8080/",
          "height": 124
        }
      },
      "source": [
        "!python pow-test.py"
      ],
      "execution_count": 0,
      "outputs": [
        {
          "output_type": "stream",
          "text": [
            "interneuron\n",
            "86\n",
            "AVAL\n",
            "['GGR-3', 'GLR-1', 'GLR-2', 'GLR-4', 'GLR-5', 'NMR-1', 'NMR-2', 'NPR-4', 'UNC-8']\n",
            "105\n",
            "158\n"
          ],
          "name": "stdout"
        }
      ]
    },
    {
      "cell_type": "code",
      "metadata": {
        "id": "6HVlh13uqfpA",
        "colab_type": "code",
        "colab": {}
      },
      "source": [
        ""
      ],
      "execution_count": 0,
      "outputs": []
    },
    {
      "cell_type": "code",
      "metadata": {
        "id": "1649zVLnqBT_",
        "colab_type": "code",
        "colab": {}
      },
      "source": [
        "%%writefile pow-test.py\n",
        "import PyOpenWorm as P\n",
        "conn = P.connect(\".pow/pow.conf\")\n",
        "#conn = P.connect(\"readme.conf\")\n",
        "from PyOpenWorm.worm import Worm\n",
        "from movementmetadata import MovementMetadata\n",
        "from PyOpenWorm.context import Context\n",
        "\n",
        "\n",
        "#ctx = Context(ident='http://openworm.org/entities/bio#worm0-data', conf=conn.conf)\n",
        "ctx = Context(ident='http://openworm.org/data/movement/10.5281/zenodo.1014773')\n",
        "#ctx = Context(ident='http://openworm.org/data/movement', conf=conn.conf)\n",
        "\n",
        "\n",
        "print(ctx)\n",
        "from PyOpenWorm.neuron import Neuron\n",
        "aval = ctx.stored(Neuron)(name='AVAL')\n",
        "print(aval.type.one())\n",
        "\n",
        "#net = ctx.stored(Worm)()\n",
        "record = ctx.stored(MovementMetadata)(key = \"10.5281/zenodo.1014773\")\n",
        "print(record)\n",
        "col = record.collection\n",
        "print(col.__dict__)\n",
        "print(col.__dict__.keys())\n",
        "#print(record.collection.collector())\n",
        "\n",
        "\n",
        "\n"
      ],
      "execution_count": 0,
      "outputs": []
    },
    {
      "cell_type": "code",
      "metadata": {
        "id": "ExgjMCs5qNhz",
        "colab_type": "code",
        "outputId": "87bd199e-6f28-44e8-9df3-b3b885534040",
        "colab": {
          "base_uri": "https://localhost:8080/",
          "height": 126
        }
      },
      "source": [
        "!python pow-test.py"
      ],
      "execution_count": 0,
      "outputs": [
        {
          "output_type": "stream",
          "text": [
            "PyOpenWorm.context.Context(ident=\"http://openworm.org/data/movement/10.5281/zenodo.1014773\")\n",
            "None\n",
            "MovementMetadata(http://openworm.org/entities/MovementMetadata/10.5281/zenodo.1014773)\n",
            "{'_Contextualizable__context': PyOpenWorm.context.QueryContext(ident=\"http://openworm.org/data/movement/10.5281/zenodo.1014773\"), '_contexts': <WeakValueDictionary at 0x7f1dbffc4cf8>, '_Configureable__conf': <PyOpenWorm.configure.ImmutableConfigure object at 0x7f1dc214eac8>, '_DataUser__base_namespace': None, '_v': [], 'owner': MovementMetadata(ident=rdflib.term.URIRef('http://openworm.org/entities/MovementMetadata/10.5281/zenodo.1014773')), '_hdf': {}, 'filling': False}\n",
            "dict_keys(['_Contextualizable__context', '_contexts', '_Configureable__conf', '_DataUser__base_namespace', '_v', 'owner', '_hdf', 'filling'])\n"
          ],
          "name": "stdout"
        }
      ]
    },
    {
      "cell_type": "code",
      "metadata": {
        "id": "icnnU5n3eqxN",
        "colab_type": "code",
        "colab": {}
      },
      "source": [
        ""
      ],
      "execution_count": 0,
      "outputs": []
    }
  ]
}