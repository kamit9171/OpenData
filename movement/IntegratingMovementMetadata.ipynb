{
  "nbformat": 4,
  "nbformat_minor": 0,
  "metadata": {
    "colab": {
      "name": "IntegratingMovementMetadata.ipynb",
      "version": "0.3.2",
      "provenance": [],
      "collapsed_sections": [],
      "include_colab_link": true
    },
    "kernelspec": {
      "name": "python3",
      "display_name": "Python 3"
    }
  },
  "cells": [
    {
      "cell_type": "markdown",
      "metadata": {
        "id": "view-in-github",
        "colab_type": "text"
      },
      "source": [
        "<a href=\"https://colab.research.google.com/github/openworm/OpenData/blob/master/movement/IntegratingMovementMetadata.ipynb\" target=\"_parent\"><img src=\"https://colab.research.google.com/assets/colab-badge.svg\" alt=\"Open In Colab\"/></a>"
      ]
    },
    {
      "cell_type": "markdown",
      "metadata": {
        "id": "Je92Oi5BW68w",
        "colab_type": "text"
      },
      "source": [
        "**You will need a github account with your own fork of [PyOpenWorm](https://github.com/openworm/PyOpenWorm) and [OpenWormData](https://github.com/openworm/OpenWormData). Simply press fork in top right hand corner whilst logged into your own github account. Manually add the [movementmetadata.py](https://raw.githubusercontent.com/openworm/OpenData/master/movementmetadata.py) to your forked version of PyOpenWorm. Click \"Create New File\" file in your forked version of PyOpenWorm. Set the name as \"movementmetadata.py\" and copy and paste the script. Click \"Commit\" at the bottom of the page. \"movementmetadata.py\" stores the classes for categorising and incorporating movement metadata into PyOpenWorm. If you make a mistake and need to delete a repository, go to the home page of your forked version, click Settings and scroll down to Danger Zone. To start again in a google colab environment, click the Runtime tab and the Reset all Runtimes. This will remove the state of all runtimes including local variables and files.** "
      ]
    },
    {
      "cell_type": "markdown",
      "metadata": {
        "id": "3alwZsxaYdeQ",
        "colab_type": "text"
      },
      "source": [
        "**Create ssh keypairs. Leave each of the 3 boxes that will appear empty by pressing Enter.**"
      ]
    },
    {
      "cell_type": "code",
      "metadata": {
        "id": "hvDWSPDDW5AJ",
        "colab_type": "code",
        "colab": {}
      },
      "source": [
        "!ssh-keygen"
      ],
      "execution_count": 0,
      "outputs": []
    },
    {
      "cell_type": "markdown",
      "metadata": {
        "id": "xcrnuZ6WY4Vu",
        "colab_type": "text"
      },
      "source": [
        "**View the public ssh key that you have generated. You can now copy and paste the whole key as a deploy key for your forked version of the OpenWormData repository. Navigate to the homepage of your forked version of OpenWormData through the github website. Click \"Settings\" and then click \"Deploy Keys\". It is one of the tabs on the left hand side of the page. Click \"Add New Deploy Ke\"y and paste the entire key into the empty key box. Make up a title, I designated mine \"googlecolab\". Tick \"Allow Write Access\" and press \"Add Key\".** "
      ]
    },
    {
      "cell_type": "code",
      "metadata": {
        "id": "0ejsu-HvY3Wb",
        "colab_type": "code",
        "colab": {}
      },
      "source": [
        "%pycat /root/.ssh/id_rsa.pub"
      ],
      "execution_count": 0,
      "outputs": []
    },
    {
      "cell_type": "markdown",
      "metadata": {
        "id": "TC2ySEgEabvP",
        "colab_type": "text"
      },
      "source": [
        "**Get the github ssh host key**"
      ]
    },
    {
      "cell_type": "code",
      "metadata": {
        "id": "yOkb6ofUaaWd",
        "colab_type": "code",
        "colab": {}
      },
      "source": [
        "ssh-keyscan github.com >> /root/.ssh/known_hosts"
      ],
      "execution_count": 0,
      "outputs": []
    },
    {
      "cell_type": "markdown",
      "metadata": {
        "id": "MVvFxb8LdDVw",
        "colab_type": "text"
      },
      "source": [
        "**Clone the PyOpenWorm repository into your Google Colab Working Directory** "
      ]
    },
    {
      "cell_type": "code",
      "metadata": {
        "id": "bImMtYfr5SDk",
        "colab_type": "code",
        "outputId": "21aca892-1988-4162-bef4-ff64b17d2cfc",
        "colab": {
          "base_uri": "https://localhost:8080/",
          "height": 146
        }
      },
      "source": [
        "!git clone git@github.com:EST09/PyOpenWorm.git"
      ],
      "execution_count": 0,
      "outputs": [
        {
          "output_type": "stream",
          "text": [
            "Cloning into 'PyOpenWorm'...\n",
            "remote: Enumerating objects: 150, done.\u001b[K\n",
            "remote: Counting objects: 100% (150/150), done.\u001b[K\n",
            "remote: Compressing objects: 100% (95/95), done.\u001b[K\n",
            "remote: Total 10449 (delta 85), reused 99 (delta 55), pack-reused 10299\u001b[K\n",
            "Receiving objects: 100% (10449/10449), 3.43 MiB | 15.98 MiB/s, done.\n",
            "Resolving deltas: 100% (6615/6615), done.\n"
          ],
          "name": "stdout"
        }
      ]
    },
    {
      "cell_type": "markdown",
      "metadata": {
        "id": "j-EgDEZ4dVE_",
        "colab_type": "text"
      },
      "source": [
        "**Change working directory to PyOpenWorm (the folder you have just cloned from github in the last step)**"
      ]
    },
    {
      "cell_type": "code",
      "metadata": {
        "id": "4tUAEKZi6IR1",
        "colab_type": "code",
        "outputId": "50291c3b-1b2b-4080-ee02-1572383c240b",
        "colab": {
          "base_uri": "https://localhost:8080/",
          "height": 35
        }
      },
      "source": [
        "%cd PyOpenWorm"
      ],
      "execution_count": 0,
      "outputs": [
        {
          "output_type": "stream",
          "text": [
            "/content/PyOpenWorm\n"
          ],
          "name": "stdout"
        }
      ]
    },
    {
      "cell_type": "markdown",
      "metadata": {
        "id": "aLUHlN58dqne",
        "colab_type": "text"
      },
      "source": [
        "**Install PyOpenWorm as has setup.py in its root folder**"
      ]
    },
    {
      "cell_type": "code",
      "metadata": {
        "id": "N1CWaPZN6Lci",
        "colab_type": "code",
        "outputId": "2a90712c-12a8-4df1-9da2-99fbe30097f6",
        "colab": {
          "base_uri": "https://localhost:8080/",
          "height": 1000
        }
      },
      "source": [
        "!python setup.py install"
      ],
      "execution_count": 0,
      "outputs": [
        {
          "output_type": "stream",
          "text": [
            "running install\n",
            "running bdist_egg\n",
            "running egg_info\n",
            "creating PyOpenWorm.egg-info\n",
            "writing PyOpenWorm.egg-info/PKG-INFO\n",
            "writing dependency_links to PyOpenWorm.egg-info/dependency_links.txt\n",
            "writing entry points to PyOpenWorm.egg-info/entry_points.txt\n",
            "writing requirements to PyOpenWorm.egg-info/requires.txt\n",
            "writing top-level names to PyOpenWorm.egg-info/top_level.txt\n",
            "writing manifest file 'PyOpenWorm.egg-info/SOURCES.txt'\n",
            "reading manifest template 'MANIFEST.in'\n",
            "writing manifest file 'PyOpenWorm.egg-info/SOURCES.txt'\n",
            "installing library code to build/bdist.linux-x86_64/egg\n",
            "running install_lib\n",
            "running build_py\n",
            "creating build\n",
            "creating build/lib\n",
            "creating build/lib/PyOpenWorm\n",
            "copying PyOpenWorm/contextDataObject.py -> build/lib/PyOpenWorm\n",
            "copying PyOpenWorm/website.py -> build/lib/PyOpenWorm\n",
            "copying PyOpenWorm/context.py -> build/lib/PyOpenWorm\n",
            "copying PyOpenWorm/command.py -> build/lib/PyOpenWorm\n",
            "copying PyOpenWorm/my_neuroml.py -> build/lib/PyOpenWorm\n",
            "copying PyOpenWorm/cli_command_wrapper.py -> build/lib/PyOpenWorm\n",
            "copying PyOpenWorm/contextualize.py -> build/lib/PyOpenWorm\n",
            "copying PyOpenWorm/bibtex_customizations.py -> build/lib/PyOpenWorm\n",
            "copying PyOpenWorm/__init__.py -> build/lib/PyOpenWorm\n",
            "copying PyOpenWorm/statement.py -> build/lib/PyOpenWorm\n",
            "copying PyOpenWorm/document.py -> build/lib/PyOpenWorm\n",
            "copying PyOpenWorm/evidence.py -> build/lib/PyOpenWorm\n",
            "copying PyOpenWorm/identifier_mixin.py -> build/lib/PyOpenWorm\n",
            "copying PyOpenWorm/context_store.py -> build/lib/PyOpenWorm\n",
            "copying PyOpenWorm/package_utils.py -> build/lib/PyOpenWorm\n",
            "copying PyOpenWorm/git_repo.py -> build/lib/PyOpenWorm\n",
            "copying PyOpenWorm/worm_common.py -> build/lib/PyOpenWorm\n",
            "copying PyOpenWorm/module_recorder.py -> build/lib/PyOpenWorm\n",
            "copying PyOpenWorm/dataObject.py -> build/lib/PyOpenWorm\n",
            "copying PyOpenWorm/inverse_property.py -> build/lib/PyOpenWorm\n",
            "copying PyOpenWorm/biology.py -> build/lib/PyOpenWorm\n",
            "copying PyOpenWorm/channelworm.py -> build/lib/PyOpenWorm\n",
            "copying PyOpenWorm/network.py -> build/lib/PyOpenWorm\n",
            "copying PyOpenWorm/worm.py -> build/lib/PyOpenWorm\n",
            "copying PyOpenWorm/cli.py -> build/lib/PyOpenWorm\n",
            "copying PyOpenWorm/cli_hints.py -> build/lib/PyOpenWorm\n",
            "copying PyOpenWorm/text_util.py -> build/lib/PyOpenWorm\n",
            "copying PyOpenWorm/muscle.py -> build/lib/PyOpenWorm\n",
            "copying PyOpenWorm/channel_common.py -> build/lib/PyOpenWorm\n",
            "copying PyOpenWorm/channel.py -> build/lib/PyOpenWorm\n",
            "copying PyOpenWorm/cli_common.py -> build/lib/PyOpenWorm\n",
            "copying PyOpenWorm/capability.py -> build/lib/PyOpenWorm\n",
            "copying PyOpenWorm/import_override.py -> build/lib/PyOpenWorm\n",
            "copying PyOpenWorm/cell_common.py -> build/lib/PyOpenWorm\n",
            "copying PyOpenWorm/bittorrent.py -> build/lib/PyOpenWorm\n",
            "copying PyOpenWorm/documentContext.py -> build/lib/PyOpenWorm\n",
            "copying PyOpenWorm/pProperty.py -> build/lib/PyOpenWorm\n",
            "copying PyOpenWorm/rdf_go_modifiers.py -> build/lib/PyOpenWorm\n",
            "copying PyOpenWorm/cell.py -> build/lib/PyOpenWorm\n",
            "copying PyOpenWorm/datasource.py -> build/lib/PyOpenWorm\n",
            "copying PyOpenWorm/bibtex.py -> build/lib/PyOpenWorm\n",
            "copying PyOpenWorm/datasource_loader.py -> build/lib/PyOpenWorm\n",
            "copying PyOpenWorm/data.py -> build/lib/PyOpenWorm\n",
            "copying PyOpenWorm/plot.py -> build/lib/PyOpenWorm\n",
            "copying PyOpenWorm/experiment.py -> build/lib/PyOpenWorm\n",
            "copying PyOpenWorm/import_contextualizer.py -> build/lib/PyOpenWorm\n",
            "copying PyOpenWorm/capabilities.py -> build/lib/PyOpenWorm\n",
            "copying PyOpenWorm/neuron.py -> build/lib/PyOpenWorm\n",
            "copying PyOpenWorm/context_common.py -> build/lib/PyOpenWorm\n",
            "copying PyOpenWorm/command_util.py -> build/lib/PyOpenWorm\n",
            "copying PyOpenWorm/collections.py -> build/lib/PyOpenWorm\n",
            "copying PyOpenWorm/mapper.py -> build/lib/PyOpenWorm\n",
            "copying PyOpenWorm/configure.py -> build/lib/PyOpenWorm\n",
            "copying PyOpenWorm/connection.py -> build/lib/PyOpenWorm\n",
            "copying PyOpenWorm/utils.py -> build/lib/PyOpenWorm\n",
            "copying PyOpenWorm/simpleProperty.py -> build/lib/PyOpenWorm\n",
            "copying PyOpenWorm/rdf_query_util.py -> build/lib/PyOpenWorm\n",
            "creating build/lib/PyOpenWorm/data_trans\n",
            "copying PyOpenWorm/data_trans/context_datasource.py -> build/lib/PyOpenWorm/data_trans\n",
            "copying PyOpenWorm/data_trans/neuron_data.py -> build/lib/PyOpenWorm/data_trans\n",
            "copying PyOpenWorm/data_trans/__init__.py -> build/lib/PyOpenWorm/data_trans\n",
            "copying PyOpenWorm/data_trans/local_file_ds.py -> build/lib/PyOpenWorm/data_trans\n",
            "copying PyOpenWorm/data_trans/csv_ds.py -> build/lib/PyOpenWorm/data_trans\n",
            "copying PyOpenWorm/data_trans/file_ds.py -> build/lib/PyOpenWorm/data_trans\n",
            "copying PyOpenWorm/data_trans/http_ds.py -> build/lib/PyOpenWorm/data_trans\n",
            "copying PyOpenWorm/data_trans/common_data.py -> build/lib/PyOpenWorm/data_trans\n",
            "copying PyOpenWorm/data_trans/wormatlas.py -> build/lib/PyOpenWorm/data_trans\n",
            "copying PyOpenWorm/data_trans/wormbase.py -> build/lib/PyOpenWorm/data_trans\n",
            "copying PyOpenWorm/data_trans/data_with_evidence_ds.py -> build/lib/PyOpenWorm/data_trans\n",
            "copying PyOpenWorm/data_trans/excel_ds.py -> build/lib/PyOpenWorm/data_trans\n",
            "copying PyOpenWorm/data_trans/bibtex.py -> build/lib/PyOpenWorm/data_trans\n",
            "copying PyOpenWorm/data_trans/connections.py -> build/lib/PyOpenWorm/data_trans\n",
            "copying PyOpenWorm/data_trans/context_merge.py -> build/lib/PyOpenWorm/data_trans\n",
            "creating build/bdist.linux-x86_64\n",
            "creating build/bdist.linux-x86_64/egg\n",
            "creating build/bdist.linux-x86_64/egg/PyOpenWorm\n",
            "copying build/lib/PyOpenWorm/contextDataObject.py -> build/bdist.linux-x86_64/egg/PyOpenWorm\n",
            "copying build/lib/PyOpenWorm/website.py -> build/bdist.linux-x86_64/egg/PyOpenWorm\n",
            "copying build/lib/PyOpenWorm/context.py -> build/bdist.linux-x86_64/egg/PyOpenWorm\n",
            "copying build/lib/PyOpenWorm/command.py -> build/bdist.linux-x86_64/egg/PyOpenWorm\n",
            "copying build/lib/PyOpenWorm/my_neuroml.py -> build/bdist.linux-x86_64/egg/PyOpenWorm\n",
            "copying build/lib/PyOpenWorm/cli_command_wrapper.py -> build/bdist.linux-x86_64/egg/PyOpenWorm\n",
            "copying build/lib/PyOpenWorm/contextualize.py -> build/bdist.linux-x86_64/egg/PyOpenWorm\n",
            "copying build/lib/PyOpenWorm/bibtex_customizations.py -> build/bdist.linux-x86_64/egg/PyOpenWorm\n",
            "copying build/lib/PyOpenWorm/__init__.py -> build/bdist.linux-x86_64/egg/PyOpenWorm\n",
            "copying build/lib/PyOpenWorm/statement.py -> build/bdist.linux-x86_64/egg/PyOpenWorm\n",
            "copying build/lib/PyOpenWorm/document.py -> build/bdist.linux-x86_64/egg/PyOpenWorm\n",
            "copying build/lib/PyOpenWorm/evidence.py -> build/bdist.linux-x86_64/egg/PyOpenWorm\n",
            "copying build/lib/PyOpenWorm/identifier_mixin.py -> build/bdist.linux-x86_64/egg/PyOpenWorm\n",
            "copying build/lib/PyOpenWorm/context_store.py -> build/bdist.linux-x86_64/egg/PyOpenWorm\n",
            "copying build/lib/PyOpenWorm/package_utils.py -> build/bdist.linux-x86_64/egg/PyOpenWorm\n",
            "copying build/lib/PyOpenWorm/git_repo.py -> build/bdist.linux-x86_64/egg/PyOpenWorm\n",
            "copying build/lib/PyOpenWorm/worm_common.py -> build/bdist.linux-x86_64/egg/PyOpenWorm\n",
            "copying build/lib/PyOpenWorm/module_recorder.py -> build/bdist.linux-x86_64/egg/PyOpenWorm\n",
            "copying build/lib/PyOpenWorm/dataObject.py -> build/bdist.linux-x86_64/egg/PyOpenWorm\n",
            "copying build/lib/PyOpenWorm/inverse_property.py -> build/bdist.linux-x86_64/egg/PyOpenWorm\n",
            "copying build/lib/PyOpenWorm/biology.py -> build/bdist.linux-x86_64/egg/PyOpenWorm\n",
            "copying build/lib/PyOpenWorm/channelworm.py -> build/bdist.linux-x86_64/egg/PyOpenWorm\n",
            "copying build/lib/PyOpenWorm/network.py -> build/bdist.linux-x86_64/egg/PyOpenWorm\n",
            "copying build/lib/PyOpenWorm/worm.py -> build/bdist.linux-x86_64/egg/PyOpenWorm\n",
            "copying build/lib/PyOpenWorm/cli.py -> build/bdist.linux-x86_64/egg/PyOpenWorm\n",
            "copying build/lib/PyOpenWorm/cli_hints.py -> build/bdist.linux-x86_64/egg/PyOpenWorm\n",
            "copying build/lib/PyOpenWorm/text_util.py -> build/bdist.linux-x86_64/egg/PyOpenWorm\n",
            "copying build/lib/PyOpenWorm/muscle.py -> build/bdist.linux-x86_64/egg/PyOpenWorm\n",
            "copying build/lib/PyOpenWorm/channel_common.py -> build/bdist.linux-x86_64/egg/PyOpenWorm\n",
            "copying build/lib/PyOpenWorm/channel.py -> build/bdist.linux-x86_64/egg/PyOpenWorm\n",
            "copying build/lib/PyOpenWorm/cli_common.py -> build/bdist.linux-x86_64/egg/PyOpenWorm\n",
            "copying build/lib/PyOpenWorm/capability.py -> build/bdist.linux-x86_64/egg/PyOpenWorm\n",
            "copying build/lib/PyOpenWorm/import_override.py -> build/bdist.linux-x86_64/egg/PyOpenWorm\n",
            "copying build/lib/PyOpenWorm/cell_common.py -> build/bdist.linux-x86_64/egg/PyOpenWorm\n",
            "creating build/bdist.linux-x86_64/egg/PyOpenWorm/data_trans\n",
            "copying build/lib/PyOpenWorm/data_trans/context_datasource.py -> build/bdist.linux-x86_64/egg/PyOpenWorm/data_trans\n",
            "copying build/lib/PyOpenWorm/data_trans/neuron_data.py -> build/bdist.linux-x86_64/egg/PyOpenWorm/data_trans\n",
            "copying build/lib/PyOpenWorm/data_trans/__init__.py -> build/bdist.linux-x86_64/egg/PyOpenWorm/data_trans\n",
            "copying build/lib/PyOpenWorm/data_trans/local_file_ds.py -> build/bdist.linux-x86_64/egg/PyOpenWorm/data_trans\n",
            "copying build/lib/PyOpenWorm/data_trans/csv_ds.py -> build/bdist.linux-x86_64/egg/PyOpenWorm/data_trans\n",
            "copying build/lib/PyOpenWorm/data_trans/file_ds.py -> build/bdist.linux-x86_64/egg/PyOpenWorm/data_trans\n",
            "copying build/lib/PyOpenWorm/data_trans/http_ds.py -> build/bdist.linux-x86_64/egg/PyOpenWorm/data_trans\n",
            "copying build/lib/PyOpenWorm/data_trans/common_data.py -> build/bdist.linux-x86_64/egg/PyOpenWorm/data_trans\n",
            "copying build/lib/PyOpenWorm/data_trans/wormatlas.py -> build/bdist.linux-x86_64/egg/PyOpenWorm/data_trans\n",
            "copying build/lib/PyOpenWorm/data_trans/wormbase.py -> build/bdist.linux-x86_64/egg/PyOpenWorm/data_trans\n",
            "copying build/lib/PyOpenWorm/data_trans/data_with_evidence_ds.py -> build/bdist.linux-x86_64/egg/PyOpenWorm/data_trans\n",
            "copying build/lib/PyOpenWorm/data_trans/excel_ds.py -> build/bdist.linux-x86_64/egg/PyOpenWorm/data_trans\n",
            "copying build/lib/PyOpenWorm/data_trans/bibtex.py -> build/bdist.linux-x86_64/egg/PyOpenWorm/data_trans\n",
            "copying build/lib/PyOpenWorm/data_trans/connections.py -> build/bdist.linux-x86_64/egg/PyOpenWorm/data_trans\n",
            "copying build/lib/PyOpenWorm/data_trans/context_merge.py -> build/bdist.linux-x86_64/egg/PyOpenWorm/data_trans\n",
            "copying build/lib/PyOpenWorm/bittorrent.py -> build/bdist.linux-x86_64/egg/PyOpenWorm\n",
            "copying build/lib/PyOpenWorm/documentContext.py -> build/bdist.linux-x86_64/egg/PyOpenWorm\n",
            "copying build/lib/PyOpenWorm/pProperty.py -> build/bdist.linux-x86_64/egg/PyOpenWorm\n",
            "copying build/lib/PyOpenWorm/rdf_go_modifiers.py -> build/bdist.linux-x86_64/egg/PyOpenWorm\n",
            "copying build/lib/PyOpenWorm/cell.py -> build/bdist.linux-x86_64/egg/PyOpenWorm\n",
            "copying build/lib/PyOpenWorm/datasource.py -> build/bdist.linux-x86_64/egg/PyOpenWorm\n",
            "copying build/lib/PyOpenWorm/bibtex.py -> build/bdist.linux-x86_64/egg/PyOpenWorm\n",
            "copying build/lib/PyOpenWorm/datasource_loader.py -> build/bdist.linux-x86_64/egg/PyOpenWorm\n",
            "copying build/lib/PyOpenWorm/data.py -> build/bdist.linux-x86_64/egg/PyOpenWorm\n",
            "copying build/lib/PyOpenWorm/plot.py -> build/bdist.linux-x86_64/egg/PyOpenWorm\n",
            "copying build/lib/PyOpenWorm/experiment.py -> build/bdist.linux-x86_64/egg/PyOpenWorm\n",
            "copying build/lib/PyOpenWorm/import_contextualizer.py -> build/bdist.linux-x86_64/egg/PyOpenWorm\n",
            "copying build/lib/PyOpenWorm/capabilities.py -> build/bdist.linux-x86_64/egg/PyOpenWorm\n",
            "copying build/lib/PyOpenWorm/neuron.py -> build/bdist.linux-x86_64/egg/PyOpenWorm\n",
            "copying build/lib/PyOpenWorm/context_common.py -> build/bdist.linux-x86_64/egg/PyOpenWorm\n",
            "copying build/lib/PyOpenWorm/command_util.py -> build/bdist.linux-x86_64/egg/PyOpenWorm\n",
            "copying build/lib/PyOpenWorm/collections.py -> build/bdist.linux-x86_64/egg/PyOpenWorm\n",
            "copying build/lib/PyOpenWorm/mapper.py -> build/bdist.linux-x86_64/egg/PyOpenWorm\n",
            "copying build/lib/PyOpenWorm/configure.py -> build/bdist.linux-x86_64/egg/PyOpenWorm\n",
            "copying build/lib/PyOpenWorm/connection.py -> build/bdist.linux-x86_64/egg/PyOpenWorm\n",
            "copying build/lib/PyOpenWorm/utils.py -> build/bdist.linux-x86_64/egg/PyOpenWorm\n",
            "copying build/lib/PyOpenWorm/simpleProperty.py -> build/bdist.linux-x86_64/egg/PyOpenWorm\n",
            "copying build/lib/PyOpenWorm/rdf_query_util.py -> build/bdist.linux-x86_64/egg/PyOpenWorm\n",
            "byte-compiling build/bdist.linux-x86_64/egg/PyOpenWorm/contextDataObject.py to contextDataObject.cpython-36.pyc\n",
            "byte-compiling build/bdist.linux-x86_64/egg/PyOpenWorm/website.py to website.cpython-36.pyc\n",
            "byte-compiling build/bdist.linux-x86_64/egg/PyOpenWorm/context.py to context.cpython-36.pyc\n",
            "byte-compiling build/bdist.linux-x86_64/egg/PyOpenWorm/command.py to command.cpython-36.pyc\n",
            "byte-compiling build/bdist.linux-x86_64/egg/PyOpenWorm/my_neuroml.py to my_neuroml.cpython-36.pyc\n",
            "byte-compiling build/bdist.linux-x86_64/egg/PyOpenWorm/cli_command_wrapper.py to cli_command_wrapper.cpython-36.pyc\n",
            "byte-compiling build/bdist.linux-x86_64/egg/PyOpenWorm/contextualize.py to contextualize.cpython-36.pyc\n",
            "byte-compiling build/bdist.linux-x86_64/egg/PyOpenWorm/bibtex_customizations.py to bibtex_customizations.cpython-36.pyc\n",
            "byte-compiling build/bdist.linux-x86_64/egg/PyOpenWorm/__init__.py to __init__.cpython-36.pyc\n",
            "byte-compiling build/bdist.linux-x86_64/egg/PyOpenWorm/statement.py to statement.cpython-36.pyc\n",
            "byte-compiling build/bdist.linux-x86_64/egg/PyOpenWorm/document.py to document.cpython-36.pyc\n",
            "byte-compiling build/bdist.linux-x86_64/egg/PyOpenWorm/evidence.py to evidence.cpython-36.pyc\n",
            "byte-compiling build/bdist.linux-x86_64/egg/PyOpenWorm/identifier_mixin.py to identifier_mixin.cpython-36.pyc\n",
            "byte-compiling build/bdist.linux-x86_64/egg/PyOpenWorm/context_store.py to context_store.cpython-36.pyc\n",
            "byte-compiling build/bdist.linux-x86_64/egg/PyOpenWorm/package_utils.py to package_utils.cpython-36.pyc\n",
            "byte-compiling build/bdist.linux-x86_64/egg/PyOpenWorm/git_repo.py to git_repo.cpython-36.pyc\n",
            "byte-compiling build/bdist.linux-x86_64/egg/PyOpenWorm/worm_common.py to worm_common.cpython-36.pyc\n",
            "byte-compiling build/bdist.linux-x86_64/egg/PyOpenWorm/module_recorder.py to module_recorder.cpython-36.pyc\n",
            "byte-compiling build/bdist.linux-x86_64/egg/PyOpenWorm/dataObject.py to dataObject.cpython-36.pyc\n",
            "byte-compiling build/bdist.linux-x86_64/egg/PyOpenWorm/inverse_property.py to inverse_property.cpython-36.pyc\n",
            "byte-compiling build/bdist.linux-x86_64/egg/PyOpenWorm/biology.py to biology.cpython-36.pyc\n",
            "byte-compiling build/bdist.linux-x86_64/egg/PyOpenWorm/channelworm.py to channelworm.cpython-36.pyc\n",
            "byte-compiling build/bdist.linux-x86_64/egg/PyOpenWorm/network.py to network.cpython-36.pyc\n",
            "byte-compiling build/bdist.linux-x86_64/egg/PyOpenWorm/worm.py to worm.cpython-36.pyc\n",
            "byte-compiling build/bdist.linux-x86_64/egg/PyOpenWorm/cli.py to cli.cpython-36.pyc\n",
            "byte-compiling build/bdist.linux-x86_64/egg/PyOpenWorm/cli_hints.py to cli_hints.cpython-36.pyc\n",
            "byte-compiling build/bdist.linux-x86_64/egg/PyOpenWorm/text_util.py to text_util.cpython-36.pyc\n",
            "byte-compiling build/bdist.linux-x86_64/egg/PyOpenWorm/muscle.py to muscle.cpython-36.pyc\n",
            "byte-compiling build/bdist.linux-x86_64/egg/PyOpenWorm/channel_common.py to channel_common.cpython-36.pyc\n",
            "byte-compiling build/bdist.linux-x86_64/egg/PyOpenWorm/channel.py to channel.cpython-36.pyc\n",
            "byte-compiling build/bdist.linux-x86_64/egg/PyOpenWorm/cli_common.py to cli_common.cpython-36.pyc\n",
            "byte-compiling build/bdist.linux-x86_64/egg/PyOpenWorm/capability.py to capability.cpython-36.pyc\n",
            "byte-compiling build/bdist.linux-x86_64/egg/PyOpenWorm/import_override.py to import_override.cpython-36.pyc\n",
            "byte-compiling build/bdist.linux-x86_64/egg/PyOpenWorm/cell_common.py to cell_common.cpython-36.pyc\n",
            "byte-compiling build/bdist.linux-x86_64/egg/PyOpenWorm/data_trans/context_datasource.py to context_datasource.cpython-36.pyc\n",
            "byte-compiling build/bdist.linux-x86_64/egg/PyOpenWorm/data_trans/neuron_data.py to neuron_data.cpython-36.pyc\n",
            "byte-compiling build/bdist.linux-x86_64/egg/PyOpenWorm/data_trans/__init__.py to __init__.cpython-36.pyc\n",
            "byte-compiling build/bdist.linux-x86_64/egg/PyOpenWorm/data_trans/local_file_ds.py to local_file_ds.cpython-36.pyc\n",
            "byte-compiling build/bdist.linux-x86_64/egg/PyOpenWorm/data_trans/csv_ds.py to csv_ds.cpython-36.pyc\n",
            "byte-compiling build/bdist.linux-x86_64/egg/PyOpenWorm/data_trans/file_ds.py to file_ds.cpython-36.pyc\n",
            "byte-compiling build/bdist.linux-x86_64/egg/PyOpenWorm/data_trans/http_ds.py to http_ds.cpython-36.pyc\n",
            "byte-compiling build/bdist.linux-x86_64/egg/PyOpenWorm/data_trans/common_data.py to common_data.cpython-36.pyc\n",
            "byte-compiling build/bdist.linux-x86_64/egg/PyOpenWorm/data_trans/wormatlas.py to wormatlas.cpython-36.pyc\n",
            "byte-compiling build/bdist.linux-x86_64/egg/PyOpenWorm/data_trans/wormbase.py to wormbase.cpython-36.pyc\n",
            "byte-compiling build/bdist.linux-x86_64/egg/PyOpenWorm/data_trans/data_with_evidence_ds.py to data_with_evidence_ds.cpython-36.pyc\n",
            "byte-compiling build/bdist.linux-x86_64/egg/PyOpenWorm/data_trans/excel_ds.py to excel_ds.cpython-36.pyc\n",
            "byte-compiling build/bdist.linux-x86_64/egg/PyOpenWorm/data_trans/bibtex.py to bibtex.cpython-36.pyc\n",
            "byte-compiling build/bdist.linux-x86_64/egg/PyOpenWorm/data_trans/connections.py to connections.cpython-36.pyc\n",
            "byte-compiling build/bdist.linux-x86_64/egg/PyOpenWorm/data_trans/context_merge.py to context_merge.cpython-36.pyc\n",
            "byte-compiling build/bdist.linux-x86_64/egg/PyOpenWorm/bittorrent.py to bittorrent.cpython-36.pyc\n",
            "byte-compiling build/bdist.linux-x86_64/egg/PyOpenWorm/documentContext.py to documentContext.cpython-36.pyc\n",
            "byte-compiling build/bdist.linux-x86_64/egg/PyOpenWorm/pProperty.py to pProperty.cpython-36.pyc\n",
            "byte-compiling build/bdist.linux-x86_64/egg/PyOpenWorm/rdf_go_modifiers.py to rdf_go_modifiers.cpython-36.pyc\n",
            "byte-compiling build/bdist.linux-x86_64/egg/PyOpenWorm/cell.py to cell.cpython-36.pyc\n",
            "byte-compiling build/bdist.linux-x86_64/egg/PyOpenWorm/datasource.py to datasource.cpython-36.pyc\n",
            "byte-compiling build/bdist.linux-x86_64/egg/PyOpenWorm/bibtex.py to bibtex.cpython-36.pyc\n",
            "byte-compiling build/bdist.linux-x86_64/egg/PyOpenWorm/datasource_loader.py to datasource_loader.cpython-36.pyc\n",
            "byte-compiling build/bdist.linux-x86_64/egg/PyOpenWorm/data.py to data.cpython-36.pyc\n",
            "byte-compiling build/bdist.linux-x86_64/egg/PyOpenWorm/plot.py to plot.cpython-36.pyc\n",
            "byte-compiling build/bdist.linux-x86_64/egg/PyOpenWorm/experiment.py to experiment.cpython-36.pyc\n",
            "byte-compiling build/bdist.linux-x86_64/egg/PyOpenWorm/import_contextualizer.py to import_contextualizer.cpython-36.pyc\n",
            "byte-compiling build/bdist.linux-x86_64/egg/PyOpenWorm/capabilities.py to capabilities.cpython-36.pyc\n",
            "byte-compiling build/bdist.linux-x86_64/egg/PyOpenWorm/neuron.py to neuron.cpython-36.pyc\n",
            "byte-compiling build/bdist.linux-x86_64/egg/PyOpenWorm/context_common.py to context_common.cpython-36.pyc\n",
            "byte-compiling build/bdist.linux-x86_64/egg/PyOpenWorm/command_util.py to command_util.cpython-36.pyc\n",
            "byte-compiling build/bdist.linux-x86_64/egg/PyOpenWorm/collections.py to collections.cpython-36.pyc\n",
            "byte-compiling build/bdist.linux-x86_64/egg/PyOpenWorm/mapper.py to mapper.cpython-36.pyc\n",
            "byte-compiling build/bdist.linux-x86_64/egg/PyOpenWorm/configure.py to configure.cpython-36.pyc\n",
            "byte-compiling build/bdist.linux-x86_64/egg/PyOpenWorm/connection.py to connection.cpython-36.pyc\n",
            "byte-compiling build/bdist.linux-x86_64/egg/PyOpenWorm/utils.py to utils.cpython-36.pyc\n",
            "byte-compiling build/bdist.linux-x86_64/egg/PyOpenWorm/simpleProperty.py to simpleProperty.cpython-36.pyc\n",
            "byte-compiling build/bdist.linux-x86_64/egg/PyOpenWorm/rdf_query_util.py to rdf_query_util.cpython-36.pyc\n",
            "creating build/bdist.linux-x86_64/egg/EGG-INFO\n",
            "copying PyOpenWorm.egg-info/PKG-INFO -> build/bdist.linux-x86_64/egg/EGG-INFO\n",
            "copying PyOpenWorm.egg-info/SOURCES.txt -> build/bdist.linux-x86_64/egg/EGG-INFO\n",
            "copying PyOpenWorm.egg-info/dependency_links.txt -> build/bdist.linux-x86_64/egg/EGG-INFO\n",
            "copying PyOpenWorm.egg-info/entry_points.txt -> build/bdist.linux-x86_64/egg/EGG-INFO\n",
            "copying PyOpenWorm.egg-info/not-zip-safe -> build/bdist.linux-x86_64/egg/EGG-INFO\n",
            "copying PyOpenWorm.egg-info/requires.txt -> build/bdist.linux-x86_64/egg/EGG-INFO\n",
            "copying PyOpenWorm.egg-info/top_level.txt -> build/bdist.linux-x86_64/egg/EGG-INFO\n",
            "creating dist\n",
            "creating 'dist/PyOpenWorm-0.11.0.post0-py3.6.egg' and adding 'build/bdist.linux-x86_64/egg' to it\n",
            "removing 'build/bdist.linux-x86_64/egg' (and everything under it)\n",
            "Processing PyOpenWorm-0.11.0.post0-py3.6.egg\n",
            "creating /usr/local/lib/python3.6/dist-packages/PyOpenWorm-0.11.0.post0-py3.6.egg\n",
            "Extracting PyOpenWorm-0.11.0.post0-py3.6.egg to /usr/local/lib/python3.6/dist-packages\n",
            "Adding PyOpenWorm 0.11.0.post0 to easy-install.pth file\n",
            "Installing pow script to /usr/local/bin\n",
            "\n",
            "Installed /usr/local/lib/python3.6/dist-packages/PyOpenWorm-0.11.0.post0-py3.6.egg\n",
            "Processing dependencies for PyOpenWorm==0.11.0.post0\n",
            "Searching for zodb==4.1.0\n",
            "Reading https://pypi.org/simple/zodb/\n",
            "Downloading https://files.pythonhosted.org/packages/b1/a2/87aa9c753a5e2398764d8ecaf65e1995131eb58599cd651fb25d48cf1a76/ZODB-4.1.0.tar.gz#sha256=ee85731439e34994e1471a4f27fc556cc24fff58a1b4664baa9250e8bd0ee85f\n",
            "Best match: ZODB 4.1.0\n",
            "Processing ZODB-4.1.0.tar.gz\n",
            "Writing /tmp/easy_install-1ui5o9vy/ZODB-4.1.0/setup.cfg\n",
            "Running ZODB-4.1.0/setup.py -q bdist_egg --dist-dir /tmp/easy_install-1ui5o9vy/ZODB-4.1.0/egg-dist-tmp-hm7mcylq\n",
            "no previously-included directories found matching 'terryfy'\n",
            "warning: no previously-included files matching '*.dll' found anywhere in distribution\n",
            "warning: no previously-included files matching '*.pyc' found anywhere in distribution\n",
            "warning: no previously-included files matching '*.pyo' found anywhere in distribution\n",
            "warning: no previously-included files matching '*.so' found anywhere in distribution\n",
            "warning: no previously-included files matching 'coverage.xml' found anywhere in distribution\n",
            "no previously-included directories found matching 'docs/_build'\n",
            "no previously-included directories found matching 'persistent/__pycache__'\n",
            "\n",
            "Installed /tmp/easy_install-1ui5o9vy/ZODB-4.1.0/.eggs/persistent-4.5.0-py3.6-linux-x86_64.egg\n",
            "Searching for zope.interface\n",
            "Reading https://pypi.org/simple/zope.interface/\n",
            "Downloading https://files.pythonhosted.org/packages/19/17/1d198a6aaa9aa4590862fe3d3a2ed7dd808050cab4eebe8a2f2f813c1376/zope.interface-4.6.0-cp36-cp36m-manylinux1_x86_64.whl#sha256=5f4d42baed3a14c290a078e2696c5f565501abde1b2f3f1a1c0a94fbf6fbcc39\n",
            "Best match: zope.interface 4.6.0\n",
            "Processing zope.interface-4.6.0-cp36-cp36m-manylinux1_x86_64.whl\n",
            "Installing zope.interface-4.6.0-cp36-cp36m-manylinux1_x86_64.whl to /tmp/easy_install-1ui5o9vy/ZODB-4.1.0/.eggs\n",
            "writing requirements to /tmp/easy_install-1ui5o9vy/ZODB-4.1.0/.eggs/zope.interface-4.6.0-py3.6-linux-x86_64.egg/EGG-INFO/requires.txt\n",
            "\n",
            "Installed /tmp/easy_install-1ui5o9vy/ZODB-4.1.0/.eggs/zope.interface-4.6.0-py3.6-linux-x86_64.egg\n",
            "warning: no previously-included files matching '*.dll' found anywhere in distribution\n",
            "warning: no previously-included files matching '*.pyc' found anywhere in distribution\n",
            "warning: no previously-included files matching '*.pyo' found anywhere in distribution\n",
            "warning: no previously-included files matching '*.so' found anywhere in distribution\n",
            "creating /usr/local/lib/python3.6/dist-packages/ZODB-4.1.0-py3.6.egg\n",
            "Extracting ZODB-4.1.0-py3.6.egg to /usr/local/lib/python3.6/dist-packages\n",
            "Adding ZODB 4.1.0 to easy-install.pth file\n",
            "Installing fsdump script to /usr/local/bin\n",
            "Installing fsoids script to /usr/local/bin\n",
            "Installing fsrefs script to /usr/local/bin\n",
            "Installing fstail script to /usr/local/bin\n",
            "Installing repozo script to /usr/local/bin\n",
            "\n",
            "Installed /usr/local/lib/python3.6/dist-packages/ZODB-4.1.0-py3.6.egg\n",
            "Searching for zdaemon==4.0.0\n",
            "Reading https://pypi.org/simple/zdaemon/\n",
            "Downloading https://files.pythonhosted.org/packages/86/34/27021a9479db8067036ce76cd46e27a79cafb6fc35f4525bb93e32053fcf/zdaemon-4.0.0.tar.gz#sha256=82d7eaa4d831ff1ecdcffcb274f3457e095c0cc86e630bc72009a863c341ab9f\n",
            "Best match: zdaemon 4.0.0\n",
            "Processing zdaemon-4.0.0.tar.gz\n",
            "Writing /tmp/easy_install-twfl9bps/zdaemon-4.0.0/setup.cfg\n",
            "Running zdaemon-4.0.0/setup.py -q bdist_egg --dist-dir /tmp/easy_install-twfl9bps/zdaemon-4.0.0/egg-dist-tmp-lny_rzpf\n",
            "warning: no files found matching '*.rst'\n",
            "warning: no previously-included files matching '*.pyc' found anywhere in distribution\n",
            "creating /usr/local/lib/python3.6/dist-packages/zdaemon-4.0.0-py3.6.egg\n",
            "Extracting zdaemon-4.0.0-py3.6.egg to /usr/local/lib/python3.6/dist-packages\n",
            "Adding zdaemon 4.0.0 to easy-install.pth file\n",
            "Installing zdaemon script to /usr/local/bin\n",
            "\n",
            "Installed /usr/local/lib/python3.6/dist-packages/zdaemon-4.0.0-py3.6.egg\n",
            "Searching for ZConfig==3.0.4\n",
            "Reading https://pypi.org/simple/ZConfig/\n",
            "Downloading https://files.pythonhosted.org/packages/aa/0f/d57e744a4a42141e25b8b185bc830a4df2f0f083efd14cd2492e44c0ee49/ZConfig-3.0.4.tar.gz#sha256=7db2f932e74730eb5302e16964f9997121b5381738ac87ddf9559b5df2a0bffe\n",
            "Best match: ZConfig 3.0.4\n",
            "Processing ZConfig-3.0.4.tar.gz\n",
            "Writing /tmp/easy_install-sxq0p7rn/ZConfig-3.0.4/setup.cfg\n",
            "Running ZConfig-3.0.4/setup.py -q bdist_egg --dist-dir /tmp/easy_install-sxq0p7rn/ZConfig-3.0.4/egg-dist-tmp-8l43crvo\n",
            "warning: no files found matching '*.rst'\n",
            "warning: no previously-included files matching '*.pyc' found anywhere in distribution\n",
            "creating /usr/local/lib/python3.6/dist-packages/ZConfig-3.0.4-py3.6.egg\n",
            "Extracting ZConfig-3.0.4-py3.6.egg to /usr/local/lib/python3.6/dist-packages\n",
            "Adding ZConfig 3.0.4 to easy-install.pth file\n",
            "Installing zconfig script to /usr/local/bin\n",
            "Installing zconfig_schema2html script to /usr/local/bin\n",
            "\n",
            "Installed /usr/local/lib/python3.6/dist-packages/ZConfig-3.0.4-py3.6.egg\n",
            "Searching for zc.lockfile==1.1.0\n",
            "Reading https://pypi.org/simple/zc.lockfile/\n",
            "Downloading https://files.pythonhosted.org/packages/87/11/885923d10a17a88dd8f8c9cb7dbc20830d6a630bc311dc9cd4faa343f75d/zc.lockfile-1.1.0.zip#sha256=1489ff1c4f655420793c46af5b427537e62435b02e83e92d7f74a73ed8a56198\n",
            "Best match: zc.lockfile 1.1.0\n",
            "Processing zc.lockfile-1.1.0.zip\n",
            "Writing /tmp/easy_install-xdsm5q7k/zc.lockfile-1.1.0/setup.cfg\n",
            "Running zc.lockfile-1.1.0/setup.py -q bdist_egg --dist-dir /tmp/easy_install-xdsm5q7k/zc.lockfile-1.1.0/egg-dist-tmp-mg4iw0sw\n",
            "warning: no files found matching '*.rst'\n",
            "warning: no previously-included files matching '*.pyc' found anywhere in distribution\n",
            "creating /usr/local/lib/python3.6/dist-packages/zc.lockfile-1.1.0-py3.6.egg\n",
            "Extracting zc.lockfile-1.1.0-py3.6.egg to /usr/local/lib/python3.6/dist-packages\n",
            "Adding zc.lockfile 1.1.0 to easy-install.pth file\n",
            "\n",
            "Installed /usr/local/lib/python3.6/dist-packages/zc.lockfile-1.1.0-py3.6.egg\n",
            "Searching for yarom>=0.11.0\n",
            "Reading https://pypi.org/simple/yarom/\n",
            "Downloading https://files.pythonhosted.org/packages/3b/e9/46d735aba275806a30e17f6f65f051c72857e4f9dcf350b4949507203064/YAROM-0.11.0.post20190721170339.tar.gz#sha256=96feedff14f8ca561d59b4317ca55fddb1446c7b6ee0e077bc4116c9797e08bd\n",
            "Best match: YAROM 0.11.0.post20190721170339\n",
            "Processing YAROM-0.11.0.post20190721170339.tar.gz\n",
            "Writing /tmp/easy_install-8eqy24vt/YAROM-0.11.0.post20190721170339/setup.cfg\n",
            "Running YAROM-0.11.0.post20190721170339/setup.py -q bdist_egg --dist-dir /tmp/easy_install-8eqy24vt/YAROM-0.11.0.post20190721170339/egg-dist-tmp-s1rmx8_3\n",
            "creating /usr/local/lib/python3.6/dist-packages/YAROM-0.11.0.post20190721170339-py3.6.egg\n",
            "Extracting YAROM-0.11.0.post20190721170339-py3.6.egg to /usr/local/lib/python3.6/dist-packages\n",
            "Adding YAROM 0.11.0.post20190721170339 to easy-install.pth file\n",
            "\n",
            "Installed /usr/local/lib/python3.6/dist-packages/YAROM-0.11.0.post20190721170339-py3.6.egg\n",
            "Searching for wrapt==1.10.11\n",
            "Reading https://pypi.org/simple/wrapt/\n",
            "Downloading https://files.pythonhosted.org/packages/a0/47/66897906448185fcb77fc3c2b1bc20ed0ecca81a0f2f88eda3fc5a34fc3d/wrapt-1.10.11.tar.gz#sha256=d4d560d479f2c21e1b5443bbd15fe7ec4b37fe7e53d335d3b9b0a7b1226fe3c6\n",
            "Best match: wrapt 1.10.11\n",
            "Processing wrapt-1.10.11.tar.gz\n",
            "Writing /tmp/easy_install-g6elzx99/wrapt-1.10.11/setup.cfg\n",
            "Running wrapt-1.10.11/setup.py -q bdist_egg --dist-dir /tmp/easy_install-g6elzx99/wrapt-1.10.11/egg-dist-tmp-e_ygs4ln\n",
            "zip_safe flag not set; analyzing archive contents...\n",
            "wrapt.__pycache__._wrappers.cpython-36: module references __file__\n",
            "creating /usr/local/lib/python3.6/dist-packages/wrapt-1.10.11-py3.6-linux-x86_64.egg\n",
            "Extracting wrapt-1.10.11-py3.6-linux-x86_64.egg to /usr/local/lib/python3.6/dist-packages\n",
            "Adding wrapt 1.10.11 to easy-install.pth file\n",
            "\n",
            "Installed /usr/local/lib/python3.6/dist-packages/wrapt-1.10.11-py3.6-linux-x86_64.egg\n",
            "Searching for transaction>=1.4.4\n",
            "Reading https://pypi.org/simple/transaction/\n",
            "Downloading https://files.pythonhosted.org/packages/21/38/499bcc737411b00ea969fdc82e1ff56925a0ea634fe03173e18fbdd59015/transaction-2.4.0-py2.py3-none-any.whl#sha256=b96a5e9aaa73f905759bc9ccf0021bf4864c01ac36666e0d28395e871f6d584a\n",
            "Best match: transaction 2.4.0\n",
            "Processing transaction-2.4.0-py2.py3-none-any.whl\n",
            "Installing transaction-2.4.0-py2.py3-none-any.whl to /usr/local/lib/python3.6/dist-packages\n",
            "writing requirements to /usr/local/lib/python3.6/dist-packages/transaction-2.4.0-py3.6.egg/EGG-INFO/requires.txt\n",
            "Adding transaction 2.4.0 to easy-install.pth file\n",
            "\n",
            "Installed /usr/local/lib/python3.6/dist-packages/transaction-2.4.0-py3.6.egg\n",
            "Searching for tqdm~=4.23.4\n",
            "Reading https://pypi.org/simple/tqdm/\n",
            "Downloading https://files.pythonhosted.org/packages/93/24/6ab1df969db228aed36a648a8959d1027099ce45fad67532b9673d533318/tqdm-4.23.4-py2.py3-none-any.whl#sha256=224291ee0d8c52d91b037fd90806f48c79bcd9994d3b0abc9e44b946a908fccd\n",
            "Best match: tqdm 4.23.4\n",
            "Processing tqdm-4.23.4-py2.py3-none-any.whl\n",
            "Installing tqdm-4.23.4-py2.py3-none-any.whl to /usr/local/lib/python3.6/dist-packages\n",
            "Adding tqdm 4.23.4 to easy-install.pth file\n",
            "Installing tqdm script to /usr/local/bin\n",
            "\n",
            "Installed /usr/local/lib/python3.6/dist-packages/tqdm-4.23.4-py3.6.egg\n",
            "Searching for rdflib>=4.1.2\n",
            "Reading https://pypi.org/simple/rdflib/\n",
            "Downloading https://files.pythonhosted.org/packages/3c/fe/630bacb652680f6d481b9febbb3e2c3869194a1a5fc3401a4a41195a2f8f/rdflib-4.2.2-py3-none-any.whl#sha256=58d5994610105a457cff7fdfe3d683d87786c5028a45ae032982498a7e913d6f\n",
            "Best match: rdflib 4.2.2\n",
            "Processing rdflib-4.2.2-py3-none-any.whl\n",
            "Installing rdflib-4.2.2-py3-none-any.whl to /usr/local/lib/python3.6/dist-packages\n",
            "writing requirements to /usr/local/lib/python3.6/dist-packages/rdflib-4.2.2-py3.6.egg/EGG-INFO/requires.txt\n",
            "Adding rdflib 4.2.2 to easy-install.pth file\n",
            "Installing csv2rdf script to /usr/local/bin\n",
            "Installing rdf2dot script to /usr/local/bin\n",
            "Installing rdfgraphisomorphism script to /usr/local/bin\n",
            "Installing rdfpipe script to /usr/local/bin\n",
            "Installing rdfs2dot script to /usr/local/bin\n",
            "\n",
            "Installed /usr/local/lib/python3.6/dist-packages/rdflib-4.2.2-py3.6.egg\n",
            "Searching for pow-store-zodb==0.0.7\n",
            "Reading https://pypi.org/simple/pow-store-zodb/\n",
            "Downloading https://files.pythonhosted.org/packages/a5/c2/5ca5e620f95e9320d9363d6a0efd972265f33a00752f2f1df55bcffedc53/pow-store-zodb-0.0.7.tar.gz#sha256=bd40096cd667ccf3866bbbc5e19d59e7c956a61d4394dd4ad2f605c7995f2e3a\n",
            "Best match: pow-store-zodb 0.0.7\n",
            "Processing pow-store-zodb-0.0.7.tar.gz\n",
            "Writing /tmp/easy_install-v2wmru44/pow-store-zodb-0.0.7/setup.cfg\n",
            "Running pow-store-zodb-0.0.7/setup.py -q bdist_egg --dist-dir /tmp/easy_install-v2wmru44/pow-store-zodb-0.0.7/egg-dist-tmp-dxbfgcnh\n",
            "zip_safe flag not set; analyzing archive contents...\n",
            "Moving pow_store_zodb-0.0.7-py3.6.egg to /usr/local/lib/python3.6/dist-packages\n",
            "Adding pow-store-zodb 0.0.7 to easy-install.pth file\n",
            "\n",
            "Installed /usr/local/lib/python3.6/dist-packages/pow_store_zodb-0.0.7-py3.6.egg\n",
            "Searching for Pint==0.8.1\n",
            "Reading https://pypi.org/simple/Pint/\n",
            "Downloading https://files.pythonhosted.org/packages/1e/40/6938f7d544eef208a8183c2c80624289e8a4f4e0aea43f4658b9527077de/Pint-0.8.1.tar.gz#sha256=afcf31443a478c32bbac4b00337ee9026a13d0e2ac83d30c79151462513bb0d4\n",
            "Best match: Pint 0.8.1\n",
            "Processing Pint-0.8.1.tar.gz\n",
            "Writing /tmp/easy_install-xccju4et/Pint-0.8.1/setup.cfg\n",
            "Running Pint-0.8.1/setup.py -q bdist_egg --dist-dir /tmp/easy_install-xccju4et/Pint-0.8.1/egg-dist-tmp-r55tepdj\n",
            "no previously-included directories found matching 'docs/_build'\n",
            "no previously-included directories found matching 'docs/_themes/.git'\n",
            "warning: no previously-included files matching '*.pyc' found anywhere in distribution\n",
            "warning: no previously-included files matching '*~' found anywhere in distribution\n",
            "warning: no previously-included files matching '.DS_Store' found anywhere in distribution\n",
            "warning: no previously-included files matching '*__pycache__*' found anywhere in distribution\n",
            "warning: no previously-included files matching '*.pyo' found anywhere in distribution\n",
            "warning: no previously-included files matching '.travis-exclude.yml' found anywhere in distribution\n",
            "Moving Pint-0.8.1-py3.6.egg to /usr/local/lib/python3.6/dist-packages\n",
            "Adding Pint 0.8.1 to easy-install.pth file\n",
            "\n",
            "Installed /usr/local/lib/python3.6/dist-packages/Pint-0.8.1-py3.6.egg\n",
            "Searching for persistent==4.0.8\n",
            "Reading https://pypi.org/simple/persistent/\n",
            "Downloading https://files.pythonhosted.org/packages/e3/6e/f7214ed16580f14265f68f560112a21fe5b95691ab1314270ec65151acf5/persistent-4.0.8.tar.gz#sha256=678902217c5370d33694c6dc95b89e1e6284b4dc41f04c056326194a3f6f3e22\n",
            "Best match: persistent 4.0.8\n",
            "Processing persistent-4.0.8.tar.gz\n",
            "Writing /tmp/easy_install-2n0e0nge/persistent-4.0.8/setup.cfg\n",
            "Running persistent-4.0.8/setup.py -q bdist_egg --dist-dir /tmp/easy_install-2n0e0nge/persistent-4.0.8/egg-dist-tmp-77ny920a\n",
            "warning: no previously-included files matching '*.dll' found anywhere in distribution\n",
            "warning: no previously-included files matching '*.pyc' found anywhere in distribution\n",
            "warning: no previously-included files matching '*.pyo' found anywhere in distribution\n",
            "warning: no previously-included files matching '*.so' found anywhere in distribution\n",
            "creating /usr/local/lib/python3.6/dist-packages/persistent-4.0.8-py3.6-linux-x86_64.egg\n",
            "Extracting persistent-4.0.8-py3.6-linux-x86_64.egg to /usr/local/lib/python3.6/dist-packages\n",
            "Adding persistent 4.0.8 to easy-install.pth file\n",
            "\n",
            "Installed /usr/local/lib/python3.6/dist-packages/persistent-4.0.8-py3.6-linux-x86_64.egg\n",
            "Searching for numpydoc>=0.7.0\n",
            "Reading https://pypi.org/simple/numpydoc/\n",
            "Downloading https://files.pythonhosted.org/packages/6a/f3/7cfe4c616e4b9fe05540256cc9c6661c052c8a4cec2915732793b36e1843/numpydoc-0.9.1.tar.gz#sha256=e08f8ee92933e324ff347771da15e498dbf0bc6295ed15003872b34654a0a627\n",
            "Best match: numpydoc 0.9.1\n",
            "Processing numpydoc-0.9.1.tar.gz\n",
            "Writing /tmp/easy_install-ujuslau_/numpydoc-0.9.1/setup.cfg\n",
            "Running numpydoc-0.9.1/setup.py -q bdist_egg --dist-dir /tmp/easy_install-ujuslau_/numpydoc-0.9.1/egg-dist-tmp-yu4tdao2\n",
            "warning: no previously-included files matching '*.pyc' found anywhere in distribution\n",
            "warning: no previously-included files matching '*~' found anywhere in distribution\n",
            "warning: no previously-included files matching '*.bak' found anywhere in distribution\n",
            "warning: no previously-included files matching '*.swp' found anywhere in distribution\n",
            "warning: no previously-included files matching '*.pyo' found anywhere in distribution\n",
            "zip_safe flag not set; analyzing archive contents...\n",
            "numpydoc.__pycache__.docscrape.cpython-36: module MAY be using inspect.getsourcefile\n",
            "numpydoc.__pycache__.docscrape_sphinx.cpython-36: module references __file__\n",
            "creating /usr/local/lib/python3.6/dist-packages/numpydoc-0.9.1-py3.6.egg\n",
            "Extracting numpydoc-0.9.1-py3.6.egg to /usr/local/lib/python3.6/dist-packages\n",
            "Adding numpydoc 0.9.1 to easy-install.pth file\n",
            "\n",
            "Installed /usr/local/lib/python3.6/dist-packages/numpydoc-0.9.1-py3.6.egg\n",
            "Searching for libneuroml\n",
            "Reading https://pypi.org/simple/libneuroml/\n",
            "Downloading https://files.pythonhosted.org/packages/51/b6/088bd2b9840d877e07601b45bce98561b624480792590ca91f7652ad9180/libNeuroML-0.2.47.tar.gz#sha256=eafd63b3f296bc5873469ea769cfb72c2ecd53dd1ed7a220d8ce92b133cd54df\n",
            "Best match: libNeuroML 0.2.47\n",
            "Processing libNeuroML-0.2.47.tar.gz\n",
            "Writing /tmp/easy_install-i2_aio11/libNeuroML-0.2.47/setup.cfg\n",
            "Running libNeuroML-0.2.47/setup.py -q bdist_egg --dist-dir /tmp/easy_install-i2_aio11/libNeuroML-0.2.47/egg-dist-tmp-s3l_60nn\n",
            "warning: no files found matching 'examples'\n",
            "warning: no files found matching 'neuroml/nml/README'\n",
            "warning: manifest_maker: MANIFEST.in, line 9: 'recursive-include' expects <dir> <pattern1> <pattern2> ...\n",
            "\n",
            "zip_safe flag not set; analyzing archive contents...\n",
            "neuroml.__pycache__.utils.cpython-36: module references __file__\n",
            "neuroml.nml.__pycache__.nml.cpython-36: module MAY be using inspect.getouterframes\n",
            "neuroml.test.__pycache__.test_cell.cpython-36: module references __file__\n",
            "neuroml.test.__pycache__.test_hdf5_optimized.cpython-36: module references __file__\n",
            "neuroml.test.__pycache__.test_hdf5_parser.cpython-36: module references __file__\n",
            "neuroml.test.__pycache__.test_loaders.cpython-36: module references __file__\n",
            "neuroml.test.__pycache__.test_xml_parser.cpython-36: module references __file__\n",
            "creating /usr/local/lib/python3.6/dist-packages/libNeuroML-0.2.47-py3.6.egg\n",
            "Extracting libNeuroML-0.2.47-py3.6.egg to /usr/local/lib/python3.6/dist-packages\n",
            "Adding libNeuroML 0.2.47 to easy-install.pth file\n",
            "\n",
            "Installed /usr/local/lib/python3.6/dist-packages/libNeuroML-0.2.47-py3.6.egg\n",
            "Searching for lazy-object-proxy==1.2.1\n",
            "Reading https://pypi.org/simple/lazy-object-proxy/\n",
            "Downloading https://files.pythonhosted.org/packages/c8/ad/8cf917dd6966b2af4bfaa1e6176a8e94b2dbca427f7b9e2527e56c3ecf33/lazy-object-proxy-1.2.1.tar.gz#sha256=22ed751a2c63c6cf718674fd7461b1dfc45215bab4751ca32b6c9b8cb2734cb3\n",
            "Best match: lazy-object-proxy 1.2.1\n",
            "Processing lazy-object-proxy-1.2.1.tar.gz\n",
            "Writing /tmp/easy_install-9ndrmlnl/lazy-object-proxy-1.2.1/setup.cfg\n",
            "Running lazy-object-proxy-1.2.1/setup.py -q bdist_egg --dist-dir /tmp/easy_install-9ndrmlnl/lazy-object-proxy-1.2.1/egg-dist-tmp-cipv9uoi\n",
            "warning: no directories found matching 'examples'\n",
            "warning: no files found matching '.bumpversion.cfg'\n",
            "warning: no files found matching '.isort.cfg'\n",
            "warning: no files found matching '.pylintrc'\n",
            "warning: no previously-included files matching '*.py[cod]' found anywhere in distribution\n",
            "warning: no previously-included files matching '__pycache__' found anywhere in distribution\n",
            "warning: no previously-included files matching '*.so' found anywhere in distribution\n",
            "creating /usr/local/lib/python3.6/dist-packages/lazy_object_proxy-1.2.1-py3.6-linux-x86_64.egg\n",
            "Extracting lazy_object_proxy-1.2.1-py3.6-linux-x86_64.egg to /usr/local/lib/python3.6/dist-packages\n",
            "Adding lazy-object-proxy 1.2.1 to easy-install.pth file\n",
            "\n",
            "Installed /usr/local/lib/python3.6/dist-packages/lazy_object_proxy-1.2.1-py3.6-linux-x86_64.egg\n",
            "Searching for gitpython>=2.1.1\n",
            "Reading https://pypi.org/simple/gitpython/\n",
            "Downloading https://files.pythonhosted.org/packages/7e/c9/418ec7a9575f58c3670bab5caebc2cb28d6ac4cd6f52074bf75ab3ef2a28/GitPython-3.0.1-py3-none-any.whl#sha256=259a8b6d6a4a118738c4a65fa990f8c8c91525bb43970aed2868952ebb86ceb8\n",
            "Best match: GitPython 3.0.1\n",
            "Processing GitPython-3.0.1-py3-none-any.whl\n",
            "Installing GitPython-3.0.1-py3-none-any.whl to /usr/local/lib/python3.6/dist-packages\n",
            "writing requirements to /usr/local/lib/python3.6/dist-packages/GitPython-3.0.1-py3.6.egg/EGG-INFO/requires.txt\n",
            "Adding GitPython 3.0.1 to easy-install.pth file\n",
            "\n",
            "Installed /usr/local/lib/python3.6/dist-packages/GitPython-3.0.1-py3.6.egg\n",
            "Searching for BTrees==4.0.8\n",
            "Reading https://pypi.org/simple/BTrees/\n",
            "Downloading https://files.pythonhosted.org/packages/f1/a2/108e1dceb060f8360f4ad5a51f6dd96bfbb7c1c12a60283b82334be812be/BTrees-4.0.8.tar.gz#sha256=51382eabccda66218f7adff838c939f54130e86038adff2b0ace35d192aba899\n",
            "Best match: BTrees 4.0.8\n",
            "Processing BTrees-4.0.8.tar.gz\n",
            "Writing /tmp/easy_install-c3zukj3j/BTrees-4.0.8/setup.cfg\n",
            "Running BTrees-4.0.8/setup.py -q bdist_egg --dist-dir /tmp/easy_install-c3zukj3j/BTrees-4.0.8/egg-dist-tmp-nt4io1gt\n",
            "warning: no previously-included files matching '*.dll' found anywhere in distribution\n",
            "warning: no previously-included files matching '*.pyc' found anywhere in distribution\n",
            "warning: no previously-included files matching '*.pyo' found anywhere in distribution\n",
            "warning: no previously-included files matching '*.so' found anywhere in distribution\n",
            "creating /usr/local/lib/python3.6/dist-packages/BTrees-4.0.8-py3.6-linux-x86_64.egg\n",
            "Extracting BTrees-4.0.8-py3.6-linux-x86_64.egg to /usr/local/lib/python3.6/dist-packages\n",
            "Adding BTrees 4.0.8 to easy-install.pth file\n",
            "\n",
            "Installed /usr/local/lib/python3.6/dist-packages/BTrees-4.0.8-py3.6-linux-x86_64.egg\n",
            "Searching for bibtexparser~=1.1.0\n",
            "Reading https://pypi.org/simple/bibtexparser/\n",
            "Downloading https://files.pythonhosted.org/packages/1f/cb/c30ee322d69a569423edbcc9cf544edc5d634f3340f448c918c8a3cbccf0/bibtexparser-1.1.0.tar.gz#sha256=df8966ea752db6d74657a69b9d684a61aa33457ad6d9d50e41c50ef7f374907f\n",
            "Best match: bibtexparser 1.1.0\n",
            "Processing bibtexparser-1.1.0.tar.gz\n",
            "Writing /tmp/easy_install-yn55limo/bibtexparser-1.1.0/setup.cfg\n",
            "Running bibtexparser-1.1.0/setup.py -q bdist_egg --dist-dir /tmp/easy_install-yn55limo/bibtexparser-1.1.0/egg-dist-tmp-_gihdths\n",
            "/usr/lib/python3.6/distutils/dist.py:261: UserWarning: Unknown distribution option: 'extra_requires'\n",
            "  warnings.warn(msg)\n",
            "warning: no files found matching '*.md'\n",
            "zip_safe flag not set; analyzing archive contents...\n",
            "Moving bibtexparser-1.1.0-py3.6.egg to /usr/local/lib/python3.6/dist-packages\n",
            "Adding bibtexparser 1.1.0 to easy-install.pth file\n",
            "\n",
            "Installed /usr/local/lib/python3.6/dist-packages/bibtexparser-1.1.0-py3.6.egg\n",
            "Searching for zodbpickle>=0.2\n",
            "Reading https://pypi.org/simple/zodbpickle/\n",
            "Downloading https://files.pythonhosted.org/packages/21/d2/78a29f238c90deb061d9e79316e243899e01d0f8c9e14176448212256790/zodbpickle-1.0.4-cp36-cp36m-manylinux1_x86_64.whl#sha256=4489f293cf5239c955ab4303cd462813c90fa199451fc586562d5d2e9a6999cf\n",
            "Best match: zodbpickle 1.0.4\n",
            "Processing zodbpickle-1.0.4-cp36-cp36m-manylinux1_x86_64.whl\n",
            "Installing zodbpickle-1.0.4-cp36-cp36m-manylinux1_x86_64.whl to /usr/local/lib/python3.6/dist-packages\n",
            "writing requirements to /usr/local/lib/python3.6/dist-packages/zodbpickle-1.0.4-py3.6-linux-x86_64.egg/EGG-INFO/requires.txt\n",
            "Adding zodbpickle 1.0.4 to easy-install.pth file\n",
            "\n",
            "Installed /usr/local/lib/python3.6/dist-packages/zodbpickle-1.0.4-py3.6-linux-x86_64.egg\n",
            "Searching for zope.interface\n",
            "Reading https://pypi.org/simple/zope.interface/\n",
            "Downloading https://files.pythonhosted.org/packages/19/17/1d198a6aaa9aa4590862fe3d3a2ed7dd808050cab4eebe8a2f2f813c1376/zope.interface-4.6.0-cp36-cp36m-manylinux1_x86_64.whl#sha256=5f4d42baed3a14c290a078e2696c5f565501abde1b2f3f1a1c0a94fbf6fbcc39\n",
            "Best match: zope.interface 4.6.0\n",
            "Processing zope.interface-4.6.0-cp36-cp36m-manylinux1_x86_64.whl\n",
            "Installing zope.interface-4.6.0-cp36-cp36m-manylinux1_x86_64.whl to /usr/local/lib/python3.6/dist-packages\n",
            "writing requirements to /usr/local/lib/python3.6/dist-packages/zope.interface-4.6.0-py3.6-linux-x86_64.egg/EGG-INFO/requires.txt\n",
            "Adding zope.interface 4.6.0 to easy-install.pth file\n",
            "\n",
            "Installed /usr/local/lib/python3.6/dist-packages/zope.interface-4.6.0-py3.6-linux-x86_64.egg\n",
            "Searching for isodate\n",
            "Reading https://pypi.org/simple/isodate/\n",
            "Downloading https://files.pythonhosted.org/packages/9b/9f/b36f7774ff5ea8e428fdcfc4bb332c39ee5b9362ddd3d40d9516a55221b2/isodate-0.6.0-py2.py3-none-any.whl#sha256=aa4d33c06640f5352aca96e4b81afd8ab3b47337cc12089822d6f322ac772c81\n",
            "Best match: isodate 0.6.0\n",
            "Processing isodate-0.6.0-py2.py3-none-any.whl\n",
            "Installing isodate-0.6.0-py2.py3-none-any.whl to /usr/local/lib/python3.6/dist-packages\n",
            "writing requirements to /usr/local/lib/python3.6/dist-packages/isodate-0.6.0-py3.6.egg/EGG-INFO/requires.txt\n",
            "Adding isodate 0.6.0 to easy-install.pth file\n",
            "\n",
            "Installed /usr/local/lib/python3.6/dist-packages/isodate-0.6.0-py3.6.egg\n",
            "Searching for gitdb2>=2.0.0\n",
            "Reading https://pypi.org/simple/gitdb2/\n",
            "Downloading https://files.pythonhosted.org/packages/da/30/a407568aa8d8f25db817cf50121a958722f3fc5f87e3a6fba1f40c0633e3/gitdb2-2.0.5-py2.py3-none-any.whl#sha256=e3a0141c5f2a3f635c7209d56c496ebe1ad35da82fe4d3ec4aaa36278d70648a\n",
            "Best match: gitdb2 2.0.5\n",
            "Processing gitdb2-2.0.5-py2.py3-none-any.whl\n",
            "Installing gitdb2-2.0.5-py2.py3-none-any.whl to /usr/local/lib/python3.6/dist-packages\n",
            "writing requirements to /usr/local/lib/python3.6/dist-packages/gitdb2-2.0.5-py3.6.egg/EGG-INFO/requires.txt\n",
            "Adding gitdb2 2.0.5 to easy-install.pth file\n",
            "\n",
            "Installed /usr/local/lib/python3.6/dist-packages/gitdb2-2.0.5-py3.6.egg\n",
            "Searching for ddt>=1.1.1\n",
            "Reading https://pypi.org/simple/ddt/\n",
            "Downloading https://files.pythonhosted.org/packages/cf/f5/f83dea32dc3fb3be1e5afab8438dce73ed587740a2a061ae2ea56e04a36d/ddt-1.2.1-py2.py3-none-any.whl#sha256=474546b4020ce8a2f9550ba8899c28aa2c284c7bbf175bddede98be949d1ca7c\n",
            "Best match: ddt 1.2.1\n",
            "Processing ddt-1.2.1-py2.py3-none-any.whl\n",
            "Installing ddt-1.2.1-py2.py3-none-any.whl to /usr/local/lib/python3.6/dist-packages\n",
            "Adding ddt 1.2.1 to easy-install.pth file\n",
            "\n",
            "Installed /usr/local/lib/python3.6/dist-packages/ddt-1.2.1-py3.6.egg\n",
            "Searching for smmap2>=2.0.0\n",
            "Reading https://pypi.org/simple/smmap2/\n",
            "Downloading https://files.pythonhosted.org/packages/55/d2/866d45e3a121ee15a1dc013824d58072fd5c7799c9c34d01378eb262ca8f/smmap2-2.0.5-py2.py3-none-any.whl#sha256=0555a7bf4df71d1ef4218e4807bbf9b201f910174e6e08af2e138d4e517b4dde\n",
            "Best match: smmap2 2.0.5\n",
            "Processing smmap2-2.0.5-py2.py3-none-any.whl\n",
            "Installing smmap2-2.0.5-py2.py3-none-any.whl to /usr/local/lib/python3.6/dist-packages\n",
            "Adding smmap2 2.0.5 to easy-install.pth file\n",
            "\n",
            "Installed /usr/local/lib/python3.6/dist-packages/smmap2-2.0.5-py3.6.egg\n",
            "Searching for termcolor==1.1.0\n",
            "Best match: termcolor 1.1.0\n",
            "Adding termcolor 1.1.0 to easy-install.pth file\n",
            "\n",
            "Using /usr/local/lib/python3.6/dist-packages\n",
            "Searching for six==1.12.0\n",
            "Best match: six 1.12.0\n",
            "Adding six 1.12.0 to easy-install.pth file\n",
            "\n",
            "Using /usr/local/lib/python3.6/dist-packages\n",
            "Searching for setuptools==41.0.1\n",
            "Best match: setuptools 41.0.1\n",
            "Adding setuptools 41.0.1 to easy-install.pth file\n",
            "Installing easy_install script to /usr/local/bin\n",
            "Installing easy_install-3.6 script to /usr/local/bin\n",
            "\n",
            "Using /usr/local/lib/python3.6/dist-packages\n",
            "Searching for pyparsing==2.4.2\n",
            "Best match: pyparsing 2.4.2\n",
            "Adding pyparsing 2.4.2 to easy-install.pth file\n",
            "\n",
            "Using /usr/local/lib/python3.6/dist-packages\n",
            "Searching for Jinja2==2.10.1\n",
            "Best match: Jinja2 2.10.1\n",
            "Adding Jinja2 2.10.1 to easy-install.pth file\n",
            "\n",
            "Using /usr/local/lib/python3.6/dist-packages\n",
            "Searching for Sphinx==1.8.5\n",
            "Best match: Sphinx 1.8.5\n",
            "Adding Sphinx 1.8.5 to easy-install.pth file\n",
            "Installing sphinx-apidoc script to /usr/local/bin\n",
            "Installing sphinx-autogen script to /usr/local/bin\n",
            "Installing sphinx-build script to /usr/local/bin\n",
            "Installing sphinx-quickstart script to /usr/local/bin\n",
            "\n",
            "Using /usr/local/lib/python3.6/dist-packages\n",
            "Searching for lxml==4.2.6\n",
            "Best match: lxml 4.2.6\n",
            "Adding lxml 4.2.6 to easy-install.pth file\n",
            "\n",
            "Using /usr/local/lib/python3.6/dist-packages\n",
            "Searching for future==0.16.0\n",
            "Best match: future 0.16.0\n",
            "Adding future 0.16.0 to easy-install.pth file\n",
            "Installing futurize script to /usr/local/bin\n",
            "Installing pasteurize script to /usr/local/bin\n",
            "\n",
            "Using /usr/local/lib/python3.6/dist-packages\n",
            "Searching for MarkupSafe==1.1.1\n",
            "Best match: MarkupSafe 1.1.1\n",
            "Adding MarkupSafe 1.1.1 to easy-install.pth file\n",
            "\n",
            "Using /usr/local/lib/python3.6/dist-packages\n",
            "Searching for snowballstemmer==1.9.0\n",
            "Best match: snowballstemmer 1.9.0\n",
            "Adding snowballstemmer 1.9.0 to easy-install.pth file\n",
            "\n",
            "Using /usr/local/lib/python3.6/dist-packages\n",
            "Searching for Babel==2.7.0\n",
            "Best match: Babel 2.7.0\n",
            "Adding Babel 2.7.0 to easy-install.pth file\n",
            "Installing pybabel script to /usr/local/bin\n",
            "\n",
            "Using /usr/local/lib/python3.6/dist-packages\n",
            "Searching for imagesize==1.1.0\n",
            "Best match: imagesize 1.1.0\n",
            "Adding imagesize 1.1.0 to easy-install.pth file\n",
            "\n",
            "Using /usr/local/lib/python3.6/dist-packages\n",
            "Searching for Pygments==2.1.3\n",
            "Best match: Pygments 2.1.3\n",
            "Adding Pygments 2.1.3 to easy-install.pth file\n",
            "Installing pygmentize script to /usr/local/bin\n",
            "\n",
            "Using /usr/local/lib/python3.6/dist-packages\n",
            "Searching for requests==2.21.0\n",
            "Best match: requests 2.21.0\n",
            "Adding requests 2.21.0 to easy-install.pth file\n",
            "\n",
            "Using /usr/local/lib/python3.6/dist-packages\n",
            "Searching for alabaster==0.7.12\n",
            "Best match: alabaster 0.7.12\n",
            "Adding alabaster 0.7.12 to easy-install.pth file\n",
            "\n",
            "Using /usr/local/lib/python3.6/dist-packages\n",
            "Searching for sphinxcontrib-websupport==1.1.2\n",
            "Best match: sphinxcontrib-websupport 1.1.2\n",
            "Adding sphinxcontrib-websupport 1.1.2 to easy-install.pth file\n",
            "\n",
            "Using /usr/local/lib/python3.6/dist-packages\n",
            "Searching for docutils==0.14\n",
            "Best match: docutils 0.14\n",
            "Adding docutils 0.14 to easy-install.pth file\n",
            "\n",
            "Using /usr/local/lib/python3.6/dist-packages\n",
            "Searching for packaging==19.1\n",
            "Best match: packaging 19.1\n",
            "Adding packaging 19.1 to easy-install.pth file\n",
            "\n",
            "Using /usr/local/lib/python3.6/dist-packages\n",
            "Searching for pytz==2018.9\n",
            "Best match: pytz 2018.9\n",
            "Adding pytz 2018.9 to easy-install.pth file\n",
            "\n",
            "Using /usr/local/lib/python3.6/dist-packages\n",
            "Searching for urllib3==1.24.3\n",
            "Best match: urllib3 1.24.3\n",
            "Adding urllib3 1.24.3 to easy-install.pth file\n",
            "\n",
            "Using /usr/local/lib/python3.6/dist-packages\n",
            "Searching for certifi==2019.6.16\n",
            "Best match: certifi 2019.6.16\n",
            "Adding certifi 2019.6.16 to easy-install.pth file\n",
            "\n",
            "Using /usr/local/lib/python3.6/dist-packages\n",
            "Searching for idna==2.8\n",
            "Best match: idna 2.8\n",
            "Adding idna 2.8 to easy-install.pth file\n",
            "\n",
            "Using /usr/local/lib/python3.6/dist-packages\n",
            "Searching for chardet==3.0.4\n",
            "Best match: chardet 3.0.4\n",
            "Adding chardet 3.0.4 to easy-install.pth file\n",
            "Installing chardetect script to /usr/local/bin\n",
            "\n",
            "Using /usr/local/lib/python3.6/dist-packages\n",
            "Searching for attrs==19.1.0\n",
            "Best match: attrs 19.1.0\n",
            "Adding attrs 19.1.0 to easy-install.pth file\n",
            "\n",
            "Using /usr/local/lib/python3.6/dist-packages\n",
            "Finished processing dependencies for PyOpenWorm==0.11.0.post0\n"
          ],
          "name": "stdout"
        }
      ]
    },
    {
      "cell_type": "markdown",
      "metadata": {
        "id": "v0woFT3te_wB",
        "colab_type": "text"
      },
      "source": [
        "**pow clone: This will clone a repository into .pow in your current working directory. After a successful clone, a binary database usable as a PyOpenWorm store will have been created from the serialized graphs in the repository.**"
      ]
    },
    {
      "cell_type": "code",
      "metadata": {
        "id": "vsN245tx6PuB",
        "colab_type": "code",
        "outputId": "eeb25e11-76cf-453b-f298-fa18241f137b",
        "colab": {
          "base_uri": "https://localhost:8080/",
          "height": 764
        }
      },
      "source": [
        "!pow clone git@github.com:EST09/OpenWormData.git"
      ],
      "execution_count": 0,
      "outputs": [
        {
          "output_type": "stream",
          "text": [
            "Cloning...\n",
            "100% 250.0/250.0 [00:01<00:00, 238.77objects/s]\n",
            "Deserializing...\n",
            "0 ctx [00:00, ? ctx/s]\n",
            "  1% 2/202 [00:00<00:36,  5.52 ctx/s]\n",
            "  2% 5/202 [00:00<00:35,  5.58 ctx/s]\n",
            "  6% 12/202 [00:01<00:24,  7.62 ctx/s]\n",
            " 12% 24/202 [00:01<00:16, 10.59 ctx/s]\n",
            "4669 triples [00:01, 3481.77 triples/s]\u001b[A\n",
            " 14% 29/202 [00:01<00:15, 11.14 ctx/s]\n",
            " 18% 36/202 [00:01<00:11, 14.84 ctx/s]\n",
            " 26% 53/202 [00:13<00:37,  3.96 ctx/s]\n",
            " 30% 60/202 [00:13<00:25,  5.51 ctx/s]\n",
            " 33% 67/202 [00:13<00:17,  7.59 ctx/s]\n",
            " 39% 78/202 [00:13<00:11, 10.52 ctx/s]\n",
            "52439 triples [00:13, 3301.68 triples/s]\u001b[A\n",
            " 42% 84/202 [00:15<00:16,  7.04 ctx/s]\n",
            " 47% 95/202 [00:16<00:13,  8.08 ctx/s]\n",
            " 50% 101/202 [00:16<00:09, 10.91 ctx/s]\n",
            " 54% 109/202 [00:16<00:06, 14.28 ctx/s]\n",
            " 56% 114/202 [00:16<00:04, 18.15 ctx/s]\n",
            " 62% 126/202 [00:16<00:03, 22.31 ctx/s]\n",
            " 70% 142/202 [00:17<00:02, 29.96 ctx/s]\n",
            " 76% 153/202 [00:17<00:01, 38.14 ctx/s]\n",
            "65643 triples [00:17, 3024.75 triples/s]\u001b[A\n",
            " 80% 162/202 [00:17<00:01, 26.50 ctx/s]\n",
            "68078 triples [00:18, 2776.27 triples/s]\u001b[A\n",
            " 84% 169/202 [00:18<00:01, 18.24 ctx/s]\n",
            " 90% 182/202 [00:19<00:01, 14.85 ctx/s]\n",
            "71858 triples [00:19, 2916.23 triples/s]\u001b[A\n",
            " 93% 187/202 [00:19<00:00, 16.26 ctx/s]\n",
            " 96% 194/202 [00:19<00:00, 21.09 ctx/s]\n",
            " 99% 199/202 [00:19<00:00, 20.90 ctx/s]\n",
            "                                       \n",
            "\u001b[AFinalizing writes to database...\n",
            "100% 202/202 [00:19<00:00, 20.90 ctx/s]\n",
            "                                       \n",
            "\u001b[ALoaded 73,805 triples\n",
            "100% 202/202 [00:27<00:00, 20.90 ctx/s]\n",
            "73805 triples [00:27, 3127.50 triples/s]\u001b[A\n",
            "100% 202/202 [00:27<00:00,  7.31 ctx/s]\n",
            "Done!\n"
          ],
          "name": "stdout"
        }
      ]
    },
    {
      "cell_type": "markdown",
      "metadata": {
        "id": "7QI2-Cfye-Bg",
        "colab_type": "text"
      },
      "source": [
        "**Running the next cell will run tests to check that PyOpenWorm is working as expected**"
      ]
    },
    {
      "cell_type": "code",
      "metadata": {
        "id": "ZTmCLtq16bwD",
        "colab_type": "code",
        "colab": {}
      },
      "source": [
        "#!python setup.py test"
      ],
      "execution_count": 0,
      "outputs": []
    },
    {
      "cell_type": "markdown",
      "metadata": {
        "id": "SB4rivVkhTxx",
        "colab_type": "text"
      },
      "source": [
        "**Change directory into .pow which we cloned previously**"
      ]
    },
    {
      "cell_type": "code",
      "metadata": {
        "id": "m5cFXmdc67ur",
        "colab_type": "code",
        "outputId": "d0cf3e36-3581-425c-b7c2-2299e423aa52",
        "colab": {
          "base_uri": "https://localhost:8080/",
          "height": 54
        }
      },
      "source": [
        "%cd .pow"
      ],
      "execution_count": 0,
      "outputs": [
        {
          "output_type": "stream",
          "text": [
            "[Errno 2] No such file or directory: '.pow'\n",
            "/content/PyOpenWorm\n"
          ],
          "name": "stdout"
        }
      ]
    },
    {
      "cell_type": "markdown",
      "metadata": {
        "id": "UIGSuI9Bhcac",
        "colab_type": "text"
      },
      "source": [
        "**To add an sqlite source we need to modify the pow.conf file. The pow.conf file stores the configuration and settings for the data PyOpenWorm accesses (?). The rdf source is changed to sqlite (why specifically?)**"
      ]
    },
    {
      "cell_type": "code",
      "metadata": {
        "id": "6TRPbeg26_ZG",
        "colab_type": "code",
        "outputId": "5a6f82b6-650d-4115-bfc8-1cff79ef7912",
        "colab": {
          "base_uri": "https://localhost:8080/",
          "height": 35
        }
      },
      "source": [
        "%%writefile pow.conf \n",
        "{\n",
        "    \"data_context_id\": \"http://openworm.org/data\",\n",
        "    \"imports_context_id\": \"http://openworm.org/data/imports\",\n",
        "    \"rdf.source\": \"sqlite\",\n",
        "    \"rdf.store_conf\": \"worm.db\",\n",
        "    \"rdf.upload_block_statement_count\": 50\n",
        "}"
      ],
      "execution_count": 0,
      "outputs": [
        {
          "output_type": "stream",
          "text": [
            "Overwriting pow.conf\n"
          ],
          "name": "stdout"
        }
      ]
    },
    {
      "cell_type": "code",
      "metadata": {
        "id": "JdJOYR-o7G7A",
        "colab_type": "code",
        "outputId": "eadbc29f-6262-463c-d23e-e7b8c82ea6da",
        "colab": {
          "base_uri": "https://localhost:8080/",
          "height": 35
        }
      },
      "source": [
        "%cd ../"
      ],
      "execution_count": 0,
      "outputs": [
        {
          "output_type": "stream",
          "text": [
            "/content\n"
          ],
          "name": "stdout"
        }
      ]
    },
    {
      "cell_type": "markdown",
      "metadata": {
        "id": "EQ89-0Cohafs",
        "colab_type": "text"
      },
      "source": [
        "**Clone the rdflib-sqlalchemy-1 repository into the PyOpenWorm workng directory**\n",
        "\n"
      ]
    },
    {
      "cell_type": "code",
      "metadata": {
        "id": "JqZeJOOc70J-",
        "colab_type": "code",
        "outputId": "24ebbfca-55fe-4285-a9b3-37c8035871b7",
        "colab": {
          "base_uri": "https://localhost:8080/",
          "height": 141
        }
      },
      "source": [
        "!git clone git@github.com:mwatts15/rdflib-sqlalchemy-1.git"
      ],
      "execution_count": 0,
      "outputs": [
        {
          "output_type": "stream",
          "text": [
            "Cloning into 'rdflib-sqlalchemy-1'...\n",
            "remote: Enumerating objects: 8, done.\u001b[K\n",
            "remote: Counting objects:  12% (1/8)\u001b[K\rremote: Counting objects:  25% (2/8)\u001b[K\rremote: Counting objects:  37% (3/8)\u001b[K\rremote: Counting objects:  50% (4/8)\u001b[K\rremote: Counting objects:  62% (5/8)\u001b[K\rremote: Counting objects:  75% (6/8)\u001b[K\rremote: Counting objects:  87% (7/8)\u001b[K\rremote: Counting objects: 100% (8/8)\u001b[K\rremote: Counting objects: 100% (8/8), done.\u001b[K\n",
            "remote: Compressing objects:  20% (1/5)\u001b[K\rremote: Compressing objects:  40% (2/5)\u001b[K\rremote: Compressing objects:  60% (3/5)\u001b[K\rremote: Compressing objects:  80% (4/5)\u001b[K\rremote: Compressing objects: 100% (5/5)\u001b[K\rremote: Compressing objects: 100% (5/5), done.\u001b[K\n",
            "Receiving objects:   0% (1/1046)   \rReceiving objects:   1% (11/1046)   \rReceiving objects:   2% (21/1046)   \rReceiving objects:   3% (32/1046)   \rReceiving objects:   4% (42/1046)   \rReceiving objects:   5% (53/1046)   \rReceiving objects:   6% (63/1046)   \rReceiving objects:   7% (74/1046)   \rReceiving objects:   8% (84/1046)   \rReceiving objects:   9% (95/1046)   \rReceiving objects:  10% (105/1046)   \rReceiving objects:  11% (116/1046)   \rReceiving objects:  12% (126/1046)   \rReceiving objects:  13% (136/1046)   \rReceiving objects:  14% (147/1046)   \rReceiving objects:  15% (157/1046)   \rReceiving objects:  16% (168/1046)   \rReceiving objects:  17% (178/1046)   \rReceiving objects:  18% (189/1046)   \rReceiving objects:  19% (199/1046)   \rReceiving objects:  20% (210/1046)   \rReceiving objects:  21% (220/1046)   \rReceiving objects:  22% (231/1046)   \rReceiving objects:  23% (241/1046)   \rReceiving objects:  24% (252/1046)   \rReceiving objects:  25% (262/1046)   \rReceiving objects:  26% (272/1046)   \rReceiving objects:  27% (283/1046)   \rReceiving objects:  28% (293/1046)   \rReceiving objects:  29% (304/1046)   \rReceiving objects:  30% (314/1046)   \rReceiving objects:  31% (325/1046)   \rReceiving objects:  32% (335/1046)   \rReceiving objects:  33% (346/1046)   \rReceiving objects:  34% (356/1046)   \rReceiving objects:  35% (367/1046)   \rReceiving objects:  36% (377/1046)   \rReceiving objects:  37% (388/1046)   \rReceiving objects:  38% (398/1046)   \rReceiving objects:  39% (408/1046)   \rReceiving objects:  40% (419/1046)   \rReceiving objects:  41% (429/1046)   \rReceiving objects:  42% (440/1046)   \rReceiving objects:  43% (450/1046)   \rReceiving objects:  44% (461/1046)   \rReceiving objects:  45% (471/1046)   \rReceiving objects:  46% (482/1046)   \rReceiving objects:  47% (492/1046)   \rReceiving objects:  48% (503/1046)   \rReceiving objects:  49% (513/1046)   \rReceiving objects:  50% (523/1046)   \rReceiving objects:  51% (534/1046)   \rReceiving objects:  52% (544/1046)   \rReceiving objects:  53% (555/1046)   \rReceiving objects:  54% (565/1046)   \rReceiving objects:  55% (576/1046)   \rReceiving objects:  56% (586/1046)   \rReceiving objects:  57% (597/1046)   \rReceiving objects:  58% (607/1046)   \rReceiving objects:  59% (618/1046)   \rReceiving objects:  60% (628/1046)   \rReceiving objects:  61% (639/1046)   \rReceiving objects:  62% (649/1046)   \rReceiving objects:  63% (659/1046)   \rReceiving objects:  64% (670/1046)   \rReceiving objects:  65% (680/1046)   \rReceiving objects:  66% (691/1046)   \rReceiving objects:  67% (701/1046)   \rReceiving objects:  68% (712/1046)   \rReceiving objects:  69% (722/1046)   \rremote: Total 1046 (delta 3), reused 8 (delta 3), pack-reused 1038\u001b[K\n",
            "Receiving objects:  70% (733/1046)   \rReceiving objects:  71% (743/1046)   \rReceiving objects:  72% (754/1046)   \rReceiving objects:  73% (764/1046)   \rReceiving objects:  74% (775/1046)   \rReceiving objects:  75% (785/1046)   \rReceiving objects:  76% (795/1046)   \rReceiving objects:  77% (806/1046)   \rReceiving objects:  78% (816/1046)   \rReceiving objects:  79% (827/1046)   \rReceiving objects:  80% (837/1046)   \rReceiving objects:  81% (848/1046)   \rReceiving objects:  82% (858/1046)   \rReceiving objects:  83% (869/1046)   \rReceiving objects:  84% (879/1046)   \rReceiving objects:  85% (890/1046)   \rReceiving objects:  86% (900/1046)   \rReceiving objects:  87% (911/1046)   \rReceiving objects:  88% (921/1046)   \rReceiving objects:  89% (931/1046)   \rReceiving objects:  90% (942/1046)   \rReceiving objects:  91% (952/1046)   \rReceiving objects:  92% (963/1046)   \rReceiving objects:  93% (973/1046)   \rReceiving objects:  94% (984/1046)   \rReceiving objects:  95% (994/1046)   \rReceiving objects:  96% (1005/1046)   \rReceiving objects:  97% (1015/1046)   \rReceiving objects:  98% (1026/1046)   \rReceiving objects:  99% (1036/1046)   \rReceiving objects: 100% (1046/1046)   \rReceiving objects: 100% (1046/1046), 841.51 KiB | 13.57 MiB/s, done.\n",
            "Resolving deltas:   0% (0/618)   \rResolving deltas:   1% (7/618)   \rResolving deltas:   2% (13/618)   \rResolving deltas:   3% (19/618)   \rResolving deltas:   4% (25/618)   \rResolving deltas:   5% (31/618)   \rResolving deltas:   6% (41/618)   \rResolving deltas:   7% (46/618)   \rResolving deltas:   9% (57/618)   \rResolving deltas:  10% (64/618)   \rResolving deltas:  12% (77/618)   \rResolving deltas:  14% (88/618)   \rResolving deltas:  19% (121/618)   \rResolving deltas:  21% (130/618)   \rResolving deltas:  24% (154/618)   \rResolving deltas:  26% (162/618)   \rResolving deltas:  28% (175/618)   \rResolving deltas:  29% (182/618)   \rResolving deltas:  33% (206/618)   \rResolving deltas:  34% (213/618)   \rResolving deltas:  36% (228/618)   \rResolving deltas:  37% (229/618)   \rResolving deltas:  38% (238/618)   \rResolving deltas:  46% (287/618)   \rResolving deltas:  48% (297/618)   \rResolving deltas:  49% (308/618)   \rResolving deltas:  50% (312/618)   \rResolving deltas:  53% (329/618)   \rResolving deltas:  59% (368/618)   \rResolving deltas:  67% (419/618)   \rResolving deltas:  68% (424/618)   \rResolving deltas:  69% (428/618)   \rResolving deltas:  72% (447/618)   \rResolving deltas:  74% (461/618)   \rResolving deltas:  78% (486/618)   \rResolving deltas:  79% (494/618)   \rResolving deltas:  80% (497/618)   \rResolving deltas:  81% (501/618)   \rResolving deltas:  83% (513/618)   \rResolving deltas:  86% (535/618)   \rResolving deltas:  92% (574/618)   \rResolving deltas:  93% (578/618)   \rResolving deltas:  94% (581/618)   \rResolving deltas:  96% (595/618)   \rResolving deltas:  97% (604/618)   \rResolving deltas:  98% (607/618)   \rResolving deltas:  99% (613/618)   \rResolving deltas: 100% (618/618)   \rResolving deltas: 100% (618/618), done.\n"
          ],
          "name": "stdout"
        }
      ]
    },
    {
      "cell_type": "code",
      "metadata": {
        "id": "KHPY0r4aRRrn",
        "colab_type": "code",
        "outputId": "a5ad2569-bfab-43a4-b12e-bc747d367824",
        "colab": {
          "base_uri": "https://localhost:8080/",
          "height": 35
        }
      },
      "source": [
        "%cd rdflib-sqlalchemy-1"
      ],
      "execution_count": 0,
      "outputs": [
        {
          "output_type": "stream",
          "text": [
            "/content/PyOpenWorm/rdflib-sqlalchemy-1\n"
          ],
          "name": "stdout"
        }
      ]
    },
    {
      "cell_type": "markdown",
      "metadata": {
        "id": "JnKRekIU1hGk",
        "colab_type": "text"
      },
      "source": [
        "**Install rdflib-sqlalchemy-1**"
      ]
    },
    {
      "cell_type": "code",
      "metadata": {
        "id": "L2OHvrKlRZiB",
        "colab_type": "code",
        "outputId": "cb452055-a863-4536-d9ec-23d08ac15820",
        "colab": {
          "base_uri": "https://localhost:8080/",
          "height": 1000
        }
      },
      "source": [
        "!python setup.py install"
      ],
      "execution_count": 0,
      "outputs": [
        {
          "output_type": "stream",
          "text": [
            "running install\n",
            "running bdist_egg\n",
            "running egg_info\n",
            "creating rdflib_sqlalchemy.egg-info\n",
            "writing rdflib_sqlalchemy.egg-info/PKG-INFO\n",
            "writing dependency_links to rdflib_sqlalchemy.egg-info/dependency_links.txt\n",
            "writing requirements to rdflib_sqlalchemy.egg-info/requires.txt\n",
            "writing top-level names to rdflib_sqlalchemy.egg-info/top_level.txt\n",
            "writing manifest file 'rdflib_sqlalchemy.egg-info/SOURCES.txt'\n",
            "reading manifest template 'MANIFEST.in'\n",
            "writing manifest file 'rdflib_sqlalchemy.egg-info/SOURCES.txt'\n",
            "installing library code to build/bdist.linux-x86_64/egg\n",
            "running install_lib\n",
            "running build_py\n",
            "creating build\n",
            "creating build/lib\n",
            "creating build/lib/rdflib_sqlalchemy\n",
            "copying rdflib_sqlalchemy/__init__.py -> build/lib/rdflib_sqlalchemy\n",
            "copying rdflib_sqlalchemy/store.py -> build/lib/rdflib_sqlalchemy\n",
            "copying rdflib_sqlalchemy/tables.py -> build/lib/rdflib_sqlalchemy\n",
            "copying rdflib_sqlalchemy/constants.py -> build/lib/rdflib_sqlalchemy\n",
            "copying rdflib_sqlalchemy/sql.py -> build/lib/rdflib_sqlalchemy\n",
            "copying rdflib_sqlalchemy/types.py -> build/lib/rdflib_sqlalchemy\n",
            "copying rdflib_sqlalchemy/base.py -> build/lib/rdflib_sqlalchemy\n",
            "copying rdflib_sqlalchemy/termutils.py -> build/lib/rdflib_sqlalchemy\n",
            "copying rdflib_sqlalchemy/statistics.py -> build/lib/rdflib_sqlalchemy\n",
            "creating build/bdist.linux-x86_64\n",
            "creating build/bdist.linux-x86_64/egg\n",
            "creating build/bdist.linux-x86_64/egg/rdflib_sqlalchemy\n",
            "copying build/lib/rdflib_sqlalchemy/__init__.py -> build/bdist.linux-x86_64/egg/rdflib_sqlalchemy\n",
            "copying build/lib/rdflib_sqlalchemy/store.py -> build/bdist.linux-x86_64/egg/rdflib_sqlalchemy\n",
            "copying build/lib/rdflib_sqlalchemy/tables.py -> build/bdist.linux-x86_64/egg/rdflib_sqlalchemy\n",
            "copying build/lib/rdflib_sqlalchemy/constants.py -> build/bdist.linux-x86_64/egg/rdflib_sqlalchemy\n",
            "copying build/lib/rdflib_sqlalchemy/sql.py -> build/bdist.linux-x86_64/egg/rdflib_sqlalchemy\n",
            "copying build/lib/rdflib_sqlalchemy/types.py -> build/bdist.linux-x86_64/egg/rdflib_sqlalchemy\n",
            "copying build/lib/rdflib_sqlalchemy/base.py -> build/bdist.linux-x86_64/egg/rdflib_sqlalchemy\n",
            "copying build/lib/rdflib_sqlalchemy/termutils.py -> build/bdist.linux-x86_64/egg/rdflib_sqlalchemy\n",
            "copying build/lib/rdflib_sqlalchemy/statistics.py -> build/bdist.linux-x86_64/egg/rdflib_sqlalchemy\n",
            "byte-compiling build/bdist.linux-x86_64/egg/rdflib_sqlalchemy/__init__.py to __init__.cpython-36.pyc\n",
            "byte-compiling build/bdist.linux-x86_64/egg/rdflib_sqlalchemy/store.py to store.cpython-36.pyc\n",
            "byte-compiling build/bdist.linux-x86_64/egg/rdflib_sqlalchemy/tables.py to tables.cpython-36.pyc\n",
            "byte-compiling build/bdist.linux-x86_64/egg/rdflib_sqlalchemy/constants.py to constants.cpython-36.pyc\n",
            "byte-compiling build/bdist.linux-x86_64/egg/rdflib_sqlalchemy/sql.py to sql.cpython-36.pyc\n",
            "byte-compiling build/bdist.linux-x86_64/egg/rdflib_sqlalchemy/types.py to types.cpython-36.pyc\n",
            "byte-compiling build/bdist.linux-x86_64/egg/rdflib_sqlalchemy/base.py to base.cpython-36.pyc\n",
            "byte-compiling build/bdist.linux-x86_64/egg/rdflib_sqlalchemy/termutils.py to termutils.cpython-36.pyc\n",
            "byte-compiling build/bdist.linux-x86_64/egg/rdflib_sqlalchemy/statistics.py to statistics.cpython-36.pyc\n",
            "creating build/bdist.linux-x86_64/egg/EGG-INFO\n",
            "copying rdflib_sqlalchemy.egg-info/PKG-INFO -> build/bdist.linux-x86_64/egg/EGG-INFO\n",
            "copying rdflib_sqlalchemy.egg-info/SOURCES.txt -> build/bdist.linux-x86_64/egg/EGG-INFO\n",
            "copying rdflib_sqlalchemy.egg-info/dependency_links.txt -> build/bdist.linux-x86_64/egg/EGG-INFO\n",
            "copying rdflib_sqlalchemy.egg-info/requires.txt -> build/bdist.linux-x86_64/egg/EGG-INFO\n",
            "copying rdflib_sqlalchemy.egg-info/top_level.txt -> build/bdist.linux-x86_64/egg/EGG-INFO\n",
            "zip_safe flag not set; analyzing archive contents...\n",
            "creating dist\n",
            "creating 'dist/rdflib_sqlalchemy-0.3.8-py3.6.egg' and adding 'build/bdist.linux-x86_64/egg' to it\n",
            "removing 'build/bdist.linux-x86_64/egg' (and everything under it)\n",
            "Processing rdflib_sqlalchemy-0.3.8-py3.6.egg\n",
            "Copying rdflib_sqlalchemy-0.3.8-py3.6.egg to /usr/local/lib/python3.6/dist-packages\n",
            "Adding rdflib-sqlalchemy 0.3.8 to easy-install.pth file\n",
            "\n",
            "Installed /usr/local/lib/python3.6/dist-packages/rdflib_sqlalchemy-0.3.8-py3.6.egg\n",
            "Processing dependencies for rdflib-sqlalchemy==0.3.8\n",
            "Searching for alembic>=0.8.8\n",
            "Reading https://pypi.org/simple/alembic/\n",
            "Downloading https://files.pythonhosted.org/packages/7b/8b/0c98c378d93165d9809193f274c3c6e2151120d955b752419c7d43e4d857/alembic-1.0.11.tar.gz#sha256=cdb7d98bd5cbf65acd38d70b1c05573c432e6473a82f955cdea541b5c153b0cc\n",
            "Best match: alembic 1.0.11\n",
            "Processing alembic-1.0.11.tar.gz\n",
            "Writing /tmp/easy_install-ad96h2rj/alembic-1.0.11/setup.cfg\n",
            "Running alembic-1.0.11/setup.py -q bdist_egg --dist-dir /tmp/easy_install-ad96h2rj/alembic-1.0.11/egg-dist-tmp-af_x1c3x\n",
            "warning: no files found matching '*.jpg' under directory 'docs'\n",
            "warning: no files found matching '*.sty' under directory 'docs'\n",
            "warning: no files found matching '*.dat' under directory 'tests'\n",
            "no previously-included directories found matching 'docs/build/output'\n",
            "creating /usr/local/lib/python3.6/dist-packages/alembic-1.0.11-py3.6.egg\n",
            "Extracting alembic-1.0.11-py3.6.egg to /usr/local/lib/python3.6/dist-packages\n",
            "Adding alembic 1.0.11 to easy-install.pth file\n",
            "Installing alembic script to /usr/local/bin\n",
            "\n",
            "Installed /usr/local/lib/python3.6/dist-packages/alembic-1.0.11-py3.6.egg\n",
            "Searching for python-editor>=0.3\n",
            "Reading https://pypi.org/simple/python-editor/\n",
            "Downloading https://files.pythonhosted.org/packages/c6/d3/201fc3abe391bbae6606e6f1d598c15d367033332bd54352b12f35513717/python_editor-1.0.4-py3-none-any.whl#sha256=1bf6e860a8ad52a14c3ee1252d5dc25b2030618ed80c022598f00176adc8367d\n",
            "Best match: python-editor 1.0.4\n",
            "Processing python_editor-1.0.4-py3-none-any.whl\n",
            "Installing python_editor-1.0.4-py3-none-any.whl to /usr/local/lib/python3.6/dist-packages\n",
            "Adding python-editor 1.0.4 to easy-install.pth file\n",
            "\n",
            "Installed /usr/local/lib/python3.6/dist-packages/python_editor-1.0.4-py3.6.egg\n",
            "Searching for Mako\n",
            "Reading https://pypi.org/simple/Mako/\n",
            "Downloading https://files.pythonhosted.org/packages/b0/3c/8dcd6883d009f7cae0f3157fb53e9afb05a0d3d33b3db1268ec2e6f4a56b/Mako-1.1.0.tar.gz#sha256=a36919599a9b7dc5d86a7a8988f23a9a3a3d083070023bab23d64f7f1d1e0a4b\n",
            "Best match: Mako 1.1.0\n",
            "Processing Mako-1.1.0.tar.gz\n",
            "Writing /tmp/easy_install-_j1cm_5q/Mako-1.1.0/setup.cfg\n",
            "Running Mako-1.1.0/setup.py -q bdist_egg --dist-dir /tmp/easy_install-_j1cm_5q/Mako-1.1.0/egg-dist-tmp-e5t0x2sk\n",
            "warning: no files found matching '*.mako' under directory 'doc'\n",
            "warning: no files found matching '*.xml' under directory 'examples'\n",
            "warning: no files found matching '*.mako' under directory 'examples'\n",
            "no previously-included directories found matching 'doc/build/output'\n",
            "creating /usr/local/lib/python3.6/dist-packages/Mako-1.1.0-py3.6.egg\n",
            "Extracting Mako-1.1.0-py3.6.egg to /usr/local/lib/python3.6/dist-packages\n",
            "Adding Mako 1.1.0 to easy-install.pth file\n",
            "Installing mako-render script to /usr/local/bin\n",
            "\n",
            "Installed /usr/local/lib/python3.6/dist-packages/Mako-1.1.0-py3.6.egg\n",
            "Searching for SQLAlchemy==1.3.6\n",
            "Best match: SQLAlchemy 1.3.6\n",
            "Adding SQLAlchemy 1.3.6 to easy-install.pth file\n",
            "\n",
            "Using /usr/local/lib/python3.6/dist-packages\n",
            "Searching for six==1.12.0\n",
            "Best match: six 1.12.0\n",
            "Adding six 1.12.0 to easy-install.pth file\n",
            "\n",
            "Using /usr/local/lib/python3.6/dist-packages\n",
            "Searching for rdflib==4.2.2\n",
            "Best match: rdflib 4.2.2\n",
            "Processing rdflib-4.2.2-py3.6.egg\n",
            "rdflib 4.2.2 is already the active version in easy-install.pth\n",
            "Installing csv2rdf script to /usr/local/bin\n",
            "Installing rdf2dot script to /usr/local/bin\n",
            "Installing rdfgraphisomorphism script to /usr/local/bin\n",
            "Installing rdfpipe script to /usr/local/bin\n",
            "Installing rdfs2dot script to /usr/local/bin\n",
            "\n",
            "Using /usr/local/lib/python3.6/dist-packages/rdflib-4.2.2-py3.6.egg\n",
            "Searching for pyparsing==2.4.2\n",
            "Best match: pyparsing 2.4.2\n",
            "Adding pyparsing 2.4.2 to easy-install.pth file\n",
            "\n",
            "Using /usr/local/lib/python3.6/dist-packages\n",
            "Searching for isodate==0.6.0\n",
            "Best match: isodate 0.6.0\n",
            "Processing isodate-0.6.0-py3.6.egg\n",
            "isodate 0.6.0 is already the active version in easy-install.pth\n",
            "\n",
            "Using /usr/local/lib/python3.6/dist-packages/isodate-0.6.0-py3.6.egg\n",
            "Searching for python-dateutil==2.5.3\n",
            "Best match: python-dateutil 2.5.3\n",
            "Adding python-dateutil 2.5.3 to easy-install.pth file\n",
            "\n",
            "Using /usr/local/lib/python3.6/dist-packages\n",
            "Searching for MarkupSafe==1.1.1\n",
            "Best match: MarkupSafe 1.1.1\n",
            "Adding MarkupSafe 1.1.1 to easy-install.pth file\n",
            "\n",
            "Using /usr/local/lib/python3.6/dist-packages\n",
            "Finished processing dependencies for rdflib-sqlalchemy==0.3.8\n"
          ],
          "name": "stdout"
        }
      ]
    },
    {
      "cell_type": "code",
      "metadata": {
        "id": "WJlz1-mORmix",
        "colab_type": "code",
        "outputId": "e4b243ff-279c-49a8-f149-51be698c2ba8",
        "colab": {
          "base_uri": "https://localhost:8080/",
          "height": 35
        }
      },
      "source": [
        "%cd ../"
      ],
      "execution_count": 0,
      "outputs": [
        {
          "output_type": "stream",
          "text": [
            "/content/PyOpenWorm\n"
          ],
          "name": "stdout"
        }
      ]
    },
    {
      "cell_type": "markdown",
      "metadata": {
        "id": "JWUdXUiSa9wi",
        "colab_type": "text"
      },
      "source": [
        "**Recreate the database from serialized graphs, including uncommited changes**"
      ]
    },
    {
      "cell_type": "code",
      "metadata": {
        "id": "--rQsIf-bPEc",
        "colab_type": "code",
        "colab": {}
      },
      "source": [
        "!pow regendb"
      ],
      "execution_count": 0,
      "outputs": []
    },
    {
      "cell_type": "markdown",
      "metadata": {
        "id": "qegfXnkg3ZER",
        "colab_type": "text"
      },
      "source": [
        "**POWmovement_incorporation.py is the script for reading movement metadata and integrating it into PyOpenWorm in the format defined in movementmetadata. wget adds POWmovement_incorporation.py to PyOpenWorm so that it is available as a module for our PyOpenWorm package** "
      ]
    },
    {
      "cell_type": "code",
      "metadata": {
        "id": "oexb-qvyZUyC",
        "colab_type": "code",
        "outputId": "f627b6d8-0b60-4fd4-a4e0-82d29ba8001d",
        "colab": {
          "base_uri": "https://localhost:8080/",
          "height": 230
        }
      },
      "source": [
        "#where POWmovement_incorporation is the script for uploading the data\n",
        "!wget -N https://raw.githubusercontent.com/openworm/OpenData/master/POWmovement_incorporation.py"
      ],
      "execution_count": 0,
      "outputs": [
        {
          "output_type": "stream",
          "text": [
            "--2019-08-14 14:09:32--  https://raw.githubusercontent.com/openworm/OpenData/master/POWmovement_incorporation.py\n",
            "Resolving raw.githubusercontent.com (raw.githubusercontent.com)... 151.101.0.133, 151.101.64.133, 151.101.128.133, ...\n",
            "Connecting to raw.githubusercontent.com (raw.githubusercontent.com)|151.101.0.133|:443... connected.\n",
            "HTTP request sent, awaiting response... 200 OK\n",
            "Length: 6240 (6.1K) [text/plain]\n",
            "Saving to: ‘POWmovement_incorporation.py’\n",
            "\n",
            "\r          POWmoveme   0%[                    ]       0  --.-KB/s               \rPOWmovement_incorpo 100%[===================>]   6.09K  --.-KB/s    in 0s      \n",
            "\n",
            "Last-modified header missing -- time-stamps turned off.\n",
            "2019-08-14 14:09:32 (69.6 MB/s) - ‘POWmovement_incorporation.py’ saved [6240/6240]\n",
            "\n"
          ],
          "name": "stdout"
        }
      ]
    },
    {
      "cell_type": "code",
      "metadata": {
        "id": "tsPUQs0LaSK9",
        "colab_type": "code",
        "outputId": "b060640b-a04f-434c-d007-9ebd8633b872",
        "colab": {
          "base_uri": "https://localhost:8080/",
          "height": 195
        }
      },
      "source": [
        "!pip install sickle"
      ],
      "execution_count": 0,
      "outputs": [
        {
          "output_type": "stream",
          "text": [
            "Collecting sickle\n",
            "  Downloading https://files.pythonhosted.org/packages/78/73/f6d224de9c336418cc33be7e0101da0fda8f5afe2fb7e459279ba759e61a/Sickle-0.6.4-py3-none-any.whl\n",
            "Requirement already satisfied: requests>=1.1.0 in /usr/local/lib/python3.6/dist-packages (from sickle) (2.21.0)\n",
            "Requirement already satisfied: lxml>=3.2.3 in /usr/local/lib/python3.6/dist-packages (from sickle) (4.2.6)\n",
            "Requirement already satisfied: certifi>=2017.4.17 in /usr/local/lib/python3.6/dist-packages (from requests>=1.1.0->sickle) (2019.6.16)\n",
            "Requirement already satisfied: urllib3<1.25,>=1.21.1 in /usr/local/lib/python3.6/dist-packages (from requests>=1.1.0->sickle) (1.24.3)\n",
            "Requirement already satisfied: idna<2.9,>=2.5 in /usr/local/lib/python3.6/dist-packages (from requests>=1.1.0->sickle) (2.8)\n",
            "Requirement already satisfied: chardet<3.1.0,>=3.0.2 in /usr/local/lib/python3.6/dist-packages (from requests>=1.1.0->sickle) (3.0.4)\n",
            "Installing collected packages: sickle\n",
            "Successfully installed sickle-0.6.4\n"
          ],
          "name": "stdout"
        }
      ]
    },
    {
      "cell_type": "markdown",
      "metadata": {
        "id": "B8wcoIws4cMy",
        "colab_type": "text"
      },
      "source": [
        "**pow save: integrates the module with other modules within within PyOpenWorm allowing data in a given context to be saved in .pow** \n",
        "\n",
        "**\"(Mark Watts 18:49:\n",
        "In the example I gave, namepace is a _POWSaveNamespace as defined in PyOpenWorm.command.py\n",
        "the \"pow save\" command provides it to your method. You call \"pow save\" and that calls your method\")**"
      ]
    },
    {
      "cell_type": "code",
      "metadata": {
        "id": "GiJUUmgaWvmo",
        "colab_type": "code",
        "outputId": "e946a549-7025-4946-dd2e-f6bfac06d699",
        "colab": {
          "base_uri": "https://localhost:8080/",
          "height": 550
        }
      },
      "source": [
        "!pow save POWmovement_incorporation"
      ],
      "execution_count": 0,
      "outputs": [
        {
          "output_type": "stream",
          "text": [
            "Traceback (most recent call last):\n",
            "  File \"/usr/local/bin/pow\", line 11, in <module>\n",
            "    load_entry_point('PyOpenWorm==0.11.0.post0', 'console_scripts', 'pow')()\n",
            "  File \"/usr/local/lib/python3.6/dist-packages/PyOpenWorm-0.11.0.post0-py3.6.egg/PyOpenWorm/cli.py\", line 94, in main\n",
            "    argument_namespace_callback=ns_handler)\n",
            "  File \"/usr/local/lib/python3.6/dist-packages/PyOpenWorm-0.11.0.post0-py3.6.egg/PyOpenWorm/cli_command_wrapper.py\", line 323, in main\n",
            "    return self.mapper.apply(self.runner)\n",
            "  File \"/usr/local/lib/python3.6/dist-packages/PyOpenWorm-0.11.0.post0-py3.6.egg/PyOpenWorm/cli_command_wrapper.py\", line 80, in apply\n",
            "    return runmethod(*args, **kwargs)\n",
            "  File \"/usr/local/lib/python3.6/dist-packages/PyOpenWorm-0.11.0.post0-py3.6.egg/PyOpenWorm/cli_command_wrapper.py\", line 27, in _f\n",
            "    return getattr(runner, key)(*args, **kwargs)\n",
            "  File \"/usr/local/lib/python3.6/dist-packages/PyOpenWorm-0.11.0.post0-py3.6.egg/PyOpenWorm/command.py\", line 722, in save\n",
            "    p(ns)\n",
            "  File \"/content/PyOpenWorm/POWmovement_incorporation.py\", line 74, in pow_data\n",
            "    interpolation=None)  # need to find this\n",
            "  File \"/usr/local/lib/python3.6/dist-packages/PyOpenWorm-0.11.0.post0-py3.6.egg/PyOpenWorm/dataObject.py\", line 340, in __call__\n",
            "    o = super(ContextMappedClass, self).__call__(*args, **kwargs)\n",
            "  File \"/usr/local/lib/python3.6/dist-packages/PyOpenWorm-0.11.0.post0-py3.6.egg/PyOpenWorm/dataObject.py\", line 507, in __init__\n",
            "    super(BaseDataObject, self).__init__(**kwargs)\n",
            "  File \"/usr/local/lib/python3.6/dist-packages/PyOpenWorm-0.11.0.post0-py3.6.egg/PyOpenWorm/identifier_mixin.py\", line 37, in __init__\n",
            "    super(_IdMixin, self).__init__(*args, **kwargs)\n",
            "  File \"/usr/local/lib/python3.6/dist-packages/YAROM-0.11.0.post20190721170339-py3.6.egg/yarom/graphObject.py\", line 42, in __init__\n",
            "    super(GraphObject, self).__init__(**kwargs)\n",
            "  File \"/usr/local/lib/python3.6/dist-packages/PyOpenWorm-0.11.0.post0-py3.6.egg/PyOpenWorm/contextualize.py\", line 9, in __init__\n",
            "    super(BaseContextualizable, self).__init__(*args, **kwargs)\n",
            "  File \"/usr/local/lib/python3.6/dist-packages/PyOpenWorm-0.11.0.post0-py3.6.egg/PyOpenWorm/data.py\", line 109, in __init__\n",
            "    super(DataUser, self).__init__(*args, **kwargs)\n",
            "  File \"/usr/local/lib/python3.6/dist-packages/PyOpenWorm-0.11.0.post0-py3.6.egg/PyOpenWorm/configure.py\", line 231, in __init__\n",
            "    super(Configureable, self).__init__(**kwargs)\n",
            "TypeError: object.__init__() takes no parameters\n"
          ],
          "name": "stdout"
        }
      ]
    },
    {
      "cell_type": "markdown",
      "metadata": {
        "id": "aUzUEJT4dYio",
        "colab_type": "text"
      },
      "source": [
        "**Commit these files to your forked version of OpenWormData**"
      ]
    },
    {
      "cell_type": "code",
      "metadata": {
        "id": "1y9lp36RSRHn",
        "colab_type": "code",
        "colab": {}
      },
      "source": [
        "!pow commit -m \"commit movementmetadata records\""
      ],
      "execution_count": 0,
      "outputs": []
    },
    {
      "cell_type": "markdown",
      "metadata": {
        "id": "jNVO0rZcdiAw",
        "colab_type": "text"
      },
      "source": [
        "**Push these files to your forked version of OpenWormData**"
      ]
    },
    {
      "cell_type": "code",
      "metadata": {
        "id": "E0ggovA-DceW",
        "colab_type": "code",
        "colab": {}
      },
      "source": [
        "!pow git push"
      ],
      "execution_count": 0,
      "outputs": []
    },
    {
      "cell_type": "code",
      "metadata": {
        "id": "nMYah_PveKWF",
        "colab_type": "code",
        "colab": {}
      },
      "source": [
        "################################################"
      ],
      "execution_count": 0,
      "outputs": []
    },
    {
      "cell_type": "code",
      "metadata": {
        "id": "uj2QwRSHeR76",
        "colab_type": "code",
        "colab": {}
      },
      "source": [
        "I now need to be able to access the movement metadata"
      ],
      "execution_count": 0,
      "outputs": []
    },
    {
      "cell_type": "code",
      "metadata": {
        "id": "ZqhgYXFssWls",
        "colab_type": "code",
        "outputId": "060e5630-71dc-40cf-8f19-b2399ae399ba",
        "colab": {
          "base_uri": "https://localhost:8080/",
          "height": 35
        }
      },
      "source": [
        "%cd examples"
      ],
      "execution_count": 0,
      "outputs": [
        {
          "output_type": "stream",
          "text": [
            "/content/PyOpenWorm/examples\n"
          ],
          "name": "stdout"
        }
      ]
    },
    {
      "cell_type": "code",
      "metadata": {
        "id": "qfcYH8CjsAl8",
        "colab_type": "code",
        "outputId": "5851102c-425c-4850-c2a8-9662b06f13c7",
        "colab": {
          "base_uri": "https://localhost:8080/",
          "height": 35
        }
      },
      "source": [
        "%%writefile default.conf\n",
        "{\n",
        "    \"rdf.source\" : \"sqlite\",\n",
        "    \"rdf.store_conf\" : \"../.pow/worm.db\",\n",
        "    \"rdf.upload_block_statement_count\" : 50\n",
        "}"
      ],
      "execution_count": 0,
      "outputs": [
        {
          "output_type": "stream",
          "text": [
            "Overwriting default.conf\n"
          ],
          "name": "stdout"
        }
      ]
    },
    {
      "cell_type": "code",
      "metadata": {
        "id": "F3fA1zM4slR0",
        "colab_type": "code",
        "outputId": "b96e0c68-ad89-45a5-da8c-73d96858f6bb",
        "colab": {
          "base_uri": "https://localhost:8080/",
          "height": 35
        }
      },
      "source": [
        "%cd ../"
      ],
      "execution_count": 0,
      "outputs": [
        {
          "output_type": "stream",
          "text": [
            "/content/PyOpenWorm\n"
          ],
          "name": "stdout"
        }
      ]
    },
    {
      "cell_type": "code",
      "metadata": {
        "id": "XEI1g18fsvel",
        "colab_type": "code",
        "outputId": "7b337f60-b12a-4813-ebb5-0686e7d14dff",
        "colab": {
          "base_uri": "https://localhost:8080/",
          "height": 35
        }
      },
      "source": [
        "%cd tests"
      ],
      "execution_count": 0,
      "outputs": [
        {
          "output_type": "stream",
          "text": [
            "/content/PyOpenWorm/tests\n"
          ],
          "name": "stdout"
        }
      ]
    },
    {
      "cell_type": "code",
      "metadata": {
        "id": "Hx_OjOMcsx5a",
        "colab_type": "code",
        "outputId": "4ce08cae-047b-4ac3-d208-b6d50a5345a4",
        "colab": {
          "base_uri": "https://localhost:8080/",
          "height": 35
        }
      },
      "source": [
        "%%writefile data_integrity_test.conf\n",
        "{\n",
        "    \"connectomecsv\" : \"OpenWormData/aux_data/connectome.csv\",\n",
        "    \"neuronscsv\" : \"OpenWormData/aux_data/neurons.csv\",\n",
        "    \"rdf.source\" : \"sqlite\",\n",
        "    \"rdf.store_conf\" : \".pow/worm.db\",\n",
        "    \"rdf.upload_block_statement_count\" : 50\n",
        "}"
      ],
      "execution_count": 0,
      "outputs": [
        {
          "output_type": "stream",
          "text": [
            "Overwriting data_integrity_test.conf\n"
          ],
          "name": "stdout"
        }
      ]
    },
    {
      "cell_type": "code",
      "metadata": {
        "id": "l3kXooJgs9Eb",
        "colab_type": "code",
        "outputId": "12593929-492c-42f3-de5e-2eb47a1caedd",
        "colab": {
          "base_uri": "https://localhost:8080/",
          "height": 35
        }
      },
      "source": [
        "%cd ../"
      ],
      "execution_count": 0,
      "outputs": [
        {
          "output_type": "stream",
          "text": [
            "/content/PyOpenWorm\n"
          ],
          "name": "stdout"
        }
      ]
    },
    {
      "cell_type": "code",
      "metadata": {
        "id": "jDgStRs1o1CW",
        "colab_type": "code",
        "outputId": "c3f5ba12-df5e-4328-d0a0-cb34842890db",
        "colab": {
          "base_uri": "https://localhost:8080/",
          "height": 35
        }
      },
      "source": [
        "%%writefile pow-test.py\n",
        "import PyOpenWorm as P\n",
        "conn = P.connect(\".pow/pow.conf\")\n",
        "from PyOpenWorm.context import Context\n",
        "ctx = Context(ident='http://openworm.org/entities/bio#worm0-data', conf=conn.conf)\n",
        "\n",
        "# Grabs the representation of the neuronal network\n",
        "from PyOpenWorm.worm import Worm\n",
        "net = ctx.stored(Worm)().neuron_network()\n",
        "\n",
        "# Grab a specific neuron\n",
        "from PyOpenWorm.neuron import Neuron\n",
        "aval = ctx.stored(Neuron)(name='AVAL')\n",
        "\n",
        "print(aval.type.one())\n",
        "#'interneuron'\n",
        "\n",
        "#show how many connections go out of AVAL\n",
        "print(aval.connection.count('pre'))\n",
        "\n",
        "print(aval.name())\n",
        "\n",
        "\n",
        "#list all known receptors\n",
        "print(sorted(aval.receptors()))\n",
        "#['GGR-3', 'GLR-1', ... 'NPR-4', 'UNC-8']\n",
        "\n",
        "#show how many chemical synapses go in and out of AVAL\n",
        "print(aval.connection.count('either', syntype='send'))\n",
        "#105\n",
        "\n",
        "muscles = ctx.stored(Worm)().muscles()\n",
        "print(len(muscles))"
      ],
      "execution_count": 0,
      "outputs": [
        {
          "output_type": "stream",
          "text": [
            "Overwriting pow-test.py\n"
          ],
          "name": "stdout"
        }
      ]
    },
    {
      "cell_type": "code",
      "metadata": {
        "id": "8nvBAebspezO",
        "colab_type": "code",
        "outputId": "0986b7a0-b356-450d-be72-9adaeb6541a5",
        "colab": {
          "base_uri": "https://localhost:8080/",
          "height": 124
        }
      },
      "source": [
        "!python pow-test.py"
      ],
      "execution_count": 0,
      "outputs": [
        {
          "output_type": "stream",
          "text": [
            "interneuron\n",
            "86\n",
            "AVAL\n",
            "['GGR-3', 'GLR-1', 'GLR-2', 'GLR-4', 'GLR-5', 'NMR-1', 'NMR-2', 'NPR-4', 'UNC-8']\n",
            "105\n",
            "158\n"
          ],
          "name": "stdout"
        }
      ]
    },
    {
      "cell_type": "code",
      "metadata": {
        "id": "6HVlh13uqfpA",
        "colab_type": "code",
        "colab": {}
      },
      "source": [
        ""
      ],
      "execution_count": 0,
      "outputs": []
    },
    {
      "cell_type": "code",
      "metadata": {
        "id": "1649zVLnqBT_",
        "colab_type": "code",
        "outputId": "ed0d0b02-08a2-4a2c-8bdf-4d311ecdb1c4",
        "colab": {
          "base_uri": "https://localhost:8080/",
          "height": 35
        }
      },
      "source": [
        "%%writefile pow-test.py\n",
        "import PyOpenWorm as P\n",
        "conn = P.connect(\".pow/pow.conf\")\n",
        "#conn = P.connect(\"readme.conf\")\n",
        "from PyOpenWorm.worm import Worm\n",
        "from movementmetadata import MovementMetadata\n",
        "from PyOpenWorm.context import Context\n",
        "\n",
        "\n",
        "#ctx = Context(ident='http://openworm.org/entities/bio#worm0-data', conf=conn.conf)\n",
        "ctx = Context(ident='http://openworm.org/data/movement/10.5281/zenodo.1014773')\n",
        "#ctx = Context(ident='http://openworm.org/data/movement', conf=conn.conf)\n",
        "\n",
        "\n",
        "print(ctx)\n",
        "from PyOpenWorm.neuron import Neuron\n",
        "aval = ctx.stored(Neuron)(name='AVAL')\n",
        "print(aval.type.one())\n",
        "\n",
        "#net = ctx.stored(Worm)()\n",
        "record = ctx.stored(MovementMetadata)(key = \"10.5281/zenodo.1014773\")\n",
        "print(record)\n",
        "col = record.collection\n",
        "print(col.__dict__)\n",
        "print(col.__dict__.keys())\n",
        "#print(record.collection.collector())\n",
        "\n",
        "\n",
        "\n"
      ],
      "execution_count": 0,
      "outputs": [
        {
          "output_type": "stream",
          "text": [
            "Overwriting pow-test.py\n"
          ],
          "name": "stdout"
        }
      ]
    },
    {
      "cell_type": "code",
      "metadata": {
        "id": "ExgjMCs5qNhz",
        "colab_type": "code",
        "outputId": "87bd199e-6f28-44e8-9df3-b3b885534040",
        "colab": {
          "base_uri": "https://localhost:8080/",
          "height": 126
        }
      },
      "source": [
        "!python pow-test.py"
      ],
      "execution_count": 0,
      "outputs": [
        {
          "output_type": "stream",
          "text": [
            "PyOpenWorm.context.Context(ident=\"http://openworm.org/data/movement/10.5281/zenodo.1014773\")\n",
            "None\n",
            "MovementMetadata(http://openworm.org/entities/MovementMetadata/10.5281/zenodo.1014773)\n",
            "{'_Contextualizable__context': PyOpenWorm.context.QueryContext(ident=\"http://openworm.org/data/movement/10.5281/zenodo.1014773\"), '_contexts': <WeakValueDictionary at 0x7f1dbffc4cf8>, '_Configureable__conf': <PyOpenWorm.configure.ImmutableConfigure object at 0x7f1dc214eac8>, '_DataUser__base_namespace': None, '_v': [], 'owner': MovementMetadata(ident=rdflib.term.URIRef('http://openworm.org/entities/MovementMetadata/10.5281/zenodo.1014773')), '_hdf': {}, 'filling': False}\n",
            "dict_keys(['_Contextualizable__context', '_contexts', '_Configureable__conf', '_DataUser__base_namespace', '_v', 'owner', '_hdf', 'filling'])\n"
          ],
          "name": "stdout"
        }
      ]
    },
    {
      "cell_type": "code",
      "metadata": {
        "id": "icnnU5n3eqxN",
        "colab_type": "code",
        "colab": {}
      },
      "source": [
        ""
      ],
      "execution_count": 0,
      "outputs": []
    }
  ]
}